{
  "nbformat": 4,
  "nbformat_minor": 0,
  "metadata": {
    "colab": {
      "name": "citibike_data_crawling.ipynb",
      "provenance": []
    },
    "kernelspec": {
      "display_name": "Python 3",
      "language": "python",
      "name": "python3"
    },
    "language_info": {
      "codemirror_mode": {
        "name": "ipython",
        "version": 3
      },
      "file_extension": ".py",
      "mimetype": "text/x-python",
      "name": "python",
      "nbconvert_exporter": "python",
      "pygments_lexer": "ipython3",
      "version": "3.7.4"
    }
  },
  "cells": [
    {
      "cell_type": "markdown",
      "metadata": {
        "id": "pcG5XrTFRF9-"
      },
      "source": [
        "### Importing Utilities"
      ]
    },
    {
      "cell_type": "code",
      "metadata": {
        "id": "pQdOkB3oRF-B"
      },
      "source": [
        "import pandas as pd\n",
        "import numpy as np\n",
        "import copy\n",
        "import requests\n",
        "import time\n",
        "from tqdm.notebook import tqdm\n",
        "\n",
        "pd.set_option('chained_assignment',None)\n",
        "from io import BytesIO\n",
        "from urllib.request import urlopen\n",
        "from zipfile import ZipFile\n",
        "import re \n",
        "from datetime import datetime\n",
        "import os\n",
        "#os.path.join(save_path)"
      ],
      "execution_count": 10,
      "outputs": []
    },
    {
      "cell_type": "code",
      "metadata": {
        "id": "236IfOBHsQf9",
        "outputId": "49b88ec3-4ee2-4bfb-f867-0b421a2e9135",
        "colab": {
          "base_uri": "https://localhost:8080/"
        }
      },
      "source": [
        "from google.colab import drive\n",
        "drive.mount('/content/drive')"
      ],
      "execution_count": 9,
      "outputs": [
        {
          "output_type": "stream",
          "text": [
            "Mounted at /content/drive\n"
          ],
          "name": "stdout"
        }
      ]
    },
    {
      "cell_type": "code",
      "metadata": {
        "id": "N_VbFJmQseMm"
      },
      "source": [
        "path = '/content/drive/My Drive/3001TS'"
      ],
      "execution_count": 11,
      "outputs": []
    },
    {
      "cell_type": "code",
      "metadata": {
        "id": "I3zmrNBSrM1a"
      },
      "source": [
        "zipurl = 'https://s3.amazonaws.com/tripdata/201411-citibike-tripdata.zip' "
      ],
      "execution_count": 3,
      "outputs": []
    },
    {
      "cell_type": "code",
      "metadata": {
        "id": "mOYfI-MRrM1f"
      },
      "source": [
        "def preprocess_test(zipurl):\n",
        "    #zipurl = 'https://s3.amazonaws.com/tripdata/201501-citibike-tripdata.zip'\n",
        "    file = zipurl.split('/')[-1]\n",
        "    print(file)\n",
        "    #read data\n",
        "    if 'zip' in file:\n",
        "        with urlopen(zipurl) as zipresp:\n",
        "            with ZipFile(BytesIO(zipresp.read())) as zfile:\n",
        "                zfile.extractall(file)\n",
        "    filename = file+'/'+file.split('.')[0]+'.csv'\n",
        "    \n",
        "    df = pd.read_csv(filename)\n",
        "    return df\n"
      ],
      "execution_count": 4,
      "outputs": []
    },
    {
      "cell_type": "code",
      "metadata": {
        "id": "JL7ciYNUrM1i",
        "outputId": "cf4b747a-221d-47e7-92c7-356da57dd907",
        "colab": {
          "base_uri": "https://localhost:8080/"
        }
      },
      "source": [
        "df1 = preprocess_test(zipurl)\n",
        "cols = df1.columns.tolist()\n",
        "len(cols)"
      ],
      "execution_count": 5,
      "outputs": [
        {
          "output_type": "stream",
          "text": [
            "201411-citibike-tripdata.zip\n"
          ],
          "name": "stdout"
        },
        {
          "output_type": "execute_result",
          "data": {
            "text/plain": [
              "15"
            ]
          },
          "metadata": {
            "tags": []
          },
          "execution_count": 5
        }
      ]
    },
    {
      "cell_type": "code",
      "metadata": {
        "id": "eI684CcjrM1m"
      },
      "source": [
        "def find_distance(dt):\n",
        "    lat1 = np.radians(np.array(dt['start station latitude']))\n",
        "    lat2 = np.radians(np.array(dt['end station latitude']))\n",
        "    lon1 = np.radians(np.array(dt['start station longitude']))\n",
        "    lon2 = np.radians(np.array(dt['end station longitude']))\n",
        "    dlon = lon2 - lon1\n",
        "        #change in coordinates\n",
        "    dlat = lat2 - lat1\n",
        "\n",
        "    a = np.sin(dlat / 2)**2 + np.cos(lat1) * np.cos(lat2) *np.sin(dlon / 2)**2\n",
        "    c = 2 * np.arctan2(np.sqrt(a), np.sqrt(1 - a))\n",
        "    R = 3958.8 \n",
        "    distance = R * c\n",
        "\n",
        "    return distance\n",
        "\n",
        "\n",
        "def preprocess(zipurl):\n",
        "    #ie. 'https://s3.amazonaws.com/tripdata/201501-citibike-tripdata.zip'\n",
        "    file = zipurl.split('/')[-1]\n",
        "    print(file)\n",
        "    #read data\n",
        "    if 'zip' in file:\n",
        "        with urlopen(zipurl) as zipresp:\n",
        "            with ZipFile(BytesIO(zipresp.read())) as zfile:\n",
        "                zfile.extractall(file)\n",
        "    filename = file+'/'+file.split('.')[0]+'.csv'\n",
        "    \n",
        "    df = pd.read_csv(filename)\n",
        "   \n",
        "    #preprocess \n",
        "    df.columns= cols\n",
        "    df['starttime_day'] = pd.to_datetime(df['starttime']).dt.date\n",
        "    df['tripdistance'] = find_distance(df)\n",
        "    df = df[['starttime_day', 'usertype','tripduration', 'tripdistance']]\n",
        "    df = df.groupby(by='starttime_day').agg({'usertype': 'count','tripduration': 'mean','tripdistance':'mean'})\n",
        "    return df.reset_index()"
      ],
      "execution_count": 6,
      "outputs": []
    },
    {
      "cell_type": "code",
      "metadata": {
        "id": "u4OziE5hrM1p",
        "outputId": "37c83400-c7fe-4ba7-f983-56367c9d11fe",
        "colab": {
          "base_uri": "https://localhost:8080/",
          "height": 214
        }
      },
      "source": [
        "dff = preprocess(zipurl)\n",
        "dff.head()"
      ],
      "execution_count": 7,
      "outputs": [
        {
          "output_type": "stream",
          "text": [
            "201411-citibike-tripdata.zip\n"
          ],
          "name": "stdout"
        },
        {
          "output_type": "execute_result",
          "data": {
            "text/html": [
              "<div>\n",
              "<style scoped>\n",
              "    .dataframe tbody tr th:only-of-type {\n",
              "        vertical-align: middle;\n",
              "    }\n",
              "\n",
              "    .dataframe tbody tr th {\n",
              "        vertical-align: top;\n",
              "    }\n",
              "\n",
              "    .dataframe thead th {\n",
              "        text-align: right;\n",
              "    }\n",
              "</style>\n",
              "<table border=\"1\" class=\"dataframe\">\n",
              "  <thead>\n",
              "    <tr style=\"text-align: right;\">\n",
              "      <th></th>\n",
              "      <th>starttime_day</th>\n",
              "      <th>usertype</th>\n",
              "      <th>tripduration</th>\n",
              "      <th>tripdistance</th>\n",
              "    </tr>\n",
              "  </thead>\n",
              "  <tbody>\n",
              "    <tr>\n",
              "      <th>0</th>\n",
              "      <td>2014-11-01</td>\n",
              "      <td>6002</td>\n",
              "      <td>671.524992</td>\n",
              "      <td>0.852766</td>\n",
              "    </tr>\n",
              "    <tr>\n",
              "      <th>1</th>\n",
              "      <td>2014-11-02</td>\n",
              "      <td>14100</td>\n",
              "      <td>967.441844</td>\n",
              "      <td>0.933885</td>\n",
              "    </tr>\n",
              "    <tr>\n",
              "      <th>2</th>\n",
              "      <td>2014-11-03</td>\n",
              "      <td>26757</td>\n",
              "      <td>824.786822</td>\n",
              "      <td>1.027006</td>\n",
              "    </tr>\n",
              "    <tr>\n",
              "      <th>3</th>\n",
              "      <td>2014-11-04</td>\n",
              "      <td>31174</td>\n",
              "      <td>798.417175</td>\n",
              "      <td>1.040973</td>\n",
              "    </tr>\n",
              "    <tr>\n",
              "      <th>4</th>\n",
              "      <td>2014-11-05</td>\n",
              "      <td>30539</td>\n",
              "      <td>871.663087</td>\n",
              "      <td>1.032553</td>\n",
              "    </tr>\n",
              "  </tbody>\n",
              "</table>\n",
              "</div>"
            ],
            "text/plain": [
              "  starttime_day  usertype  tripduration  tripdistance\n",
              "0    2014-11-01      6002    671.524992      0.852766\n",
              "1    2014-11-02     14100    967.441844      0.933885\n",
              "2    2014-11-03     26757    824.786822      1.027006\n",
              "3    2014-11-04     31174    798.417175      1.040973\n",
              "4    2014-11-05     30539    871.663087      1.032553"
            ]
          },
          "metadata": {
            "tags": []
          },
          "execution_count": 7
        }
      ]
    },
    {
      "cell_type": "code",
      "metadata": {
        "id": "oMYJfQQyrM1t"
      },
      "source": [
        "def load_concat_process(list_):\n",
        "    s3 = 'https://s3.amazonaws.com/tripdata/'\n",
        "    print(\">>> Start Downloading...\")\n",
        "    df_list = []\n",
        "    for i,file in enumerate(list_):\n",
        "        url = s3+file\n",
        "        print(url)\n",
        "        df = preprocess(url)\n",
        "        df_list.append(df)\n",
        "    print(\">>> Concatenating...\")\n",
        "    full_df = pd.concat(df_list, ignore_index=False, sort=False)\n",
        "    \n",
        "    return full_df"
      ],
      "execution_count": 8,
      "outputs": []
    },
    {
      "cell_type": "code",
      "metadata": {
        "id": "fSoqW1CYrM1w"
      },
      "source": [
        "from bs4 import BeautifulSoup\n",
        "from xml.etree import ElementTree\n",
        "import xml.etree.ElementTree as ET\n",
        "import urllib.request"
      ],
      "execution_count": 12,
      "outputs": []
    },
    {
      "cell_type": "markdown",
      "metadata": {
        "id": "fB7U5oVDRF-I"
      },
      "source": [
        "### Download/ unzip and concat Citibike data"
      ]
    },
    {
      "cell_type": "code",
      "metadata": {
        "id": "7zYByk1WRF-J",
        "outputId": "212c9bce-eed7-483d-f36e-0c5b753eafbb",
        "colab": {
          "base_uri": "https://localhost:8080/"
        }
      },
      "source": [
        "url = 'https://s3.amazonaws.com/tripdata/'\n",
        "document = requests.get(url)\n",
        "soup= BeautifulSoup(document.content,\"lxml-xml\")\n",
        "print (soup.find(\"Key\"))\n",
        "#soup"
      ],
      "execution_count": 13,
      "outputs": [
        {
          "output_type": "stream",
          "text": [
            "<Key>201306-citibike-tripdata.zip</Key>\n"
          ],
          "name": "stdout"
        }
      ]
    },
    {
      "cell_type": "code",
      "metadata": {
        "id": "mM3DaJxCrM11",
        "outputId": "1d1a7480-6af3-4267-dd37-3f274cfef36d",
        "colab": {
          "base_uri": "https://localhost:8080/"
        }
      },
      "source": [
        "list_ = []\n",
        "for key in soup.find_all(\"Key\"):\n",
        "    k = re.split('[> <]+',str(key))[2]\n",
        "    if ('JC' not in k) and ('html' not in k):\n",
        "        print(k)\n",
        "        date = int(k.split('-')[0])\n",
        "        if (201412 < date) and (date< 202101):\n",
        "            list_.append(k)\n"
      ],
      "execution_count": 14,
      "outputs": [
        {
          "output_type": "stream",
          "text": [
            "201306-citibike-tripdata.zip\n",
            "201307-201402-citibike-tripdata.zip\n",
            "201307-citibike-tripdata.zip\n",
            "201308-citibike-tripdata.zip\n",
            "201309-citibike-tripdata.zip\n",
            "201310-citibike-tripdata.zip\n",
            "201311-citibike-tripdata.zip\n",
            "201312-citibike-tripdata.zip\n",
            "201401-citibike-tripdata.zip\n",
            "201402-citibike-tripdata.zip\n",
            "201403-citibike-tripdata.zip\n",
            "201404-citibike-tripdata.zip\n",
            "201405-citibike-tripdata.zip\n",
            "201406-citibike-tripdata.zip\n",
            "201407-citibike-tripdata.zip\n",
            "201408-citibike-tripdata.zip\n",
            "201409-citibike-tripdata.zip\n",
            "201410-citibike-tripdata.zip\n",
            "201411-citibike-tripdata.zip\n",
            "201412-citibike-tripdata.zip\n",
            "201501-citibike-tripdata.zip\n",
            "201502-citibike-tripdata.zip\n",
            "201503-citibike-tripdata.zip\n",
            "201504-citibike-tripdata.zip\n",
            "201505-citibike-tripdata.zip\n",
            "201506-citibike-tripdata.zip\n",
            "201507-citibike-tripdata.zip\n",
            "201508-citibike-tripdata.zip\n",
            "201509-citibike-tripdata.zip\n",
            "201510-citibike-tripdata.zip\n",
            "201511-citibike-tripdata.zip\n",
            "201512-citibike-tripdata.zip\n",
            "201601-citibike-tripdata.zip\n",
            "201602-citibike-tripdata.zip\n",
            "201603-citibike-tripdata.zip\n",
            "201604-citibike-tripdata.zip\n",
            "201605-citibike-tripdata.zip\n",
            "201606-citibike-tripdata.zip\n",
            "201607-citibike-tripdata.zip\n",
            "201608-citibike-tripdata.zip\n",
            "201609-citibike-tripdata.zip\n",
            "201610-citibike-tripdata.zip\n",
            "201611-citibike-tripdata.zip\n",
            "201612-citibike-tripdata.zip\n",
            "201701-citibike-tripdata.csv.zip\n",
            "201702-citibike-tripdata.csv.zip\n",
            "201703-citibike-tripdata.csv.zip\n",
            "201704-citibike-tripdata.csv.zip\n",
            "201705-citibike-tripdata.csv.zip\n",
            "201706-citibike-tripdata.csv.zip\n",
            "201707-citibike-tripdata.csv.zip\n",
            "201708-citibike-tripdata.csv.zip\n",
            "201709-citibike-tripdata.csv.zip\n",
            "201710-citibike-tripdata.csv.zip\n",
            "201711-citibike-tripdata.csv.zip\n",
            "201712-citibike-tripdata.csv.zip\n",
            "201801-citibike-tripdata.csv.zip\n",
            "201802-citibike-tripdata.csv.zip\n",
            "201803-citibike-tripdata.csv.zip\n",
            "201804-citibike-tripdata.csv.zip\n",
            "201805-citibike-tripdata.csv.zip\n",
            "201806-citibike-tripdata.csv.zip\n",
            "201807-citibike-tripdata.csv.zip\n",
            "201808-citibike-tripdata.csv.zip\n",
            "201809-citibike-tripdata.csv.zip\n",
            "201810-citibike-tripdata.csv.zip\n",
            "201811-citibike-tripdata.csv.zip\n",
            "201812-citibike-tripdata.csv.zip\n",
            "201901-citibike-tripdata.csv.zip\n",
            "201902-citibike-tripdata.csv.zip\n",
            "201903-citibike-tripdata.csv.zip\n",
            "201904-citibike-tripdata.csv.zip\n",
            "201905-citibike-tripdata.csv.zip\n",
            "201906-citibike-tripdata.csv.zip\n",
            "201907-citibike-tripdata.csv.zip\n",
            "201908-citibike-tripdata.csv.zip\n",
            "201909-citibike-tripdata.csv.zip\n",
            "201910-citibike-tripdata.csv.zip\n",
            "201911-citibike-tripdata.csv.zip\n",
            "201912-citibike-tripdata.csv.zip\n",
            "202001-citibike-tripdata.csv.zip\n",
            "202002-citibike-tripdata.csv.zip\n",
            "202003-citibike-tripdata.csv.zip\n",
            "202004-citibike-tripdata.csv.zip\n",
            "202005-citibike-tripdata.csv.zip\n",
            "202006-citibike-tripdata.csv.zip\n",
            "202007-citibike-tripdata.csv.zip\n",
            "202008-citibike-tripdata.csv.zip\n",
            "202009-citibike-tripdata.csv.zip\n",
            "202010-citibike-tripdata.csv.zip\n"
          ],
          "name": "stdout"
        }
      ]
    },
    {
      "cell_type": "code",
      "metadata": {
        "id": "cVRnEJazrM13",
        "outputId": "d2bac9be-57ce-48b4-810d-bfdebbe108e4",
        "colab": {
          "base_uri": "https://localhost:8080/"
        }
      },
      "source": [
        "list_[48:]"
      ],
      "execution_count": 15,
      "outputs": [
        {
          "output_type": "execute_result",
          "data": {
            "text/plain": [
              "['201901-citibike-tripdata.csv.zip',\n",
              " '201902-citibike-tripdata.csv.zip',\n",
              " '201903-citibike-tripdata.csv.zip',\n",
              " '201904-citibike-tripdata.csv.zip',\n",
              " '201905-citibike-tripdata.csv.zip',\n",
              " '201906-citibike-tripdata.csv.zip',\n",
              " '201907-citibike-tripdata.csv.zip',\n",
              " '201908-citibike-tripdata.csv.zip',\n",
              " '201909-citibike-tripdata.csv.zip',\n",
              " '201910-citibike-tripdata.csv.zip',\n",
              " '201911-citibike-tripdata.csv.zip',\n",
              " '201912-citibike-tripdata.csv.zip',\n",
              " '202001-citibike-tripdata.csv.zip',\n",
              " '202002-citibike-tripdata.csv.zip',\n",
              " '202003-citibike-tripdata.csv.zip',\n",
              " '202004-citibike-tripdata.csv.zip',\n",
              " '202005-citibike-tripdata.csv.zip',\n",
              " '202006-citibike-tripdata.csv.zip',\n",
              " '202007-citibike-tripdata.csv.zip',\n",
              " '202008-citibike-tripdata.csv.zip',\n",
              " '202009-citibike-tripdata.csv.zip',\n",
              " '202010-citibike-tripdata.csv.zip']"
            ]
          },
          "metadata": {
            "tags": []
          },
          "execution_count": 15
        }
      ]
    },
    {
      "cell_type": "markdown",
      "metadata": {
        "id": "Cv5PLFqNkkE4"
      },
      "source": [
        "### Processing the whole list"
      ]
    },
    {
      "cell_type": "code",
      "metadata": {
        "id": "T-p8uvlQrM15"
      },
      "source": [
        "start_time = datetime.now()"
      ],
      "execution_count": 16,
      "outputs": []
    },
    {
      "cell_type": "code",
      "metadata": {
        "id": "hCg1fheurM17",
        "outputId": "d08d1f85-7930-4e31-a34e-9d95d97554a2",
        "colab": {
          "base_uri": "https://localhost:8080/"
        }
      },
      "source": [
        "full_df1 = load_concat_process(list_[:24])"
      ],
      "execution_count": 17,
      "outputs": [
        {
          "output_type": "stream",
          "text": [
            ">>> Start Downloading...\n",
            "https://s3.amazonaws.com/tripdata/201501-citibike-tripdata.zip\n",
            "201501-citibike-tripdata.zip\n",
            "https://s3.amazonaws.com/tripdata/201502-citibike-tripdata.zip\n",
            "201502-citibike-tripdata.zip\n",
            "https://s3.amazonaws.com/tripdata/201503-citibike-tripdata.zip\n",
            "201503-citibike-tripdata.zip\n",
            "https://s3.amazonaws.com/tripdata/201504-citibike-tripdata.zip\n",
            "201504-citibike-tripdata.zip\n",
            "https://s3.amazonaws.com/tripdata/201505-citibike-tripdata.zip\n",
            "201505-citibike-tripdata.zip\n",
            "https://s3.amazonaws.com/tripdata/201506-citibike-tripdata.zip\n",
            "201506-citibike-tripdata.zip\n",
            "https://s3.amazonaws.com/tripdata/201507-citibike-tripdata.zip\n",
            "201507-citibike-tripdata.zip\n",
            "https://s3.amazonaws.com/tripdata/201508-citibike-tripdata.zip\n",
            "201508-citibike-tripdata.zip\n",
            "https://s3.amazonaws.com/tripdata/201509-citibike-tripdata.zip\n",
            "201509-citibike-tripdata.zip\n",
            "https://s3.amazonaws.com/tripdata/201510-citibike-tripdata.zip\n",
            "201510-citibike-tripdata.zip\n",
            "https://s3.amazonaws.com/tripdata/201511-citibike-tripdata.zip\n",
            "201511-citibike-tripdata.zip\n",
            "https://s3.amazonaws.com/tripdata/201512-citibike-tripdata.zip\n",
            "201512-citibike-tripdata.zip\n",
            "https://s3.amazonaws.com/tripdata/201601-citibike-tripdata.zip\n",
            "201601-citibike-tripdata.zip\n",
            "https://s3.amazonaws.com/tripdata/201602-citibike-tripdata.zip\n",
            "201602-citibike-tripdata.zip\n",
            "https://s3.amazonaws.com/tripdata/201603-citibike-tripdata.zip\n",
            "201603-citibike-tripdata.zip\n",
            "https://s3.amazonaws.com/tripdata/201604-citibike-tripdata.zip\n",
            "201604-citibike-tripdata.zip\n",
            "https://s3.amazonaws.com/tripdata/201605-citibike-tripdata.zip\n",
            "201605-citibike-tripdata.zip\n",
            "https://s3.amazonaws.com/tripdata/201606-citibike-tripdata.zip\n",
            "201606-citibike-tripdata.zip\n",
            "https://s3.amazonaws.com/tripdata/201607-citibike-tripdata.zip\n",
            "201607-citibike-tripdata.zip\n",
            "https://s3.amazonaws.com/tripdata/201608-citibike-tripdata.zip\n",
            "201608-citibike-tripdata.zip\n",
            "https://s3.amazonaws.com/tripdata/201609-citibike-tripdata.zip\n",
            "201609-citibike-tripdata.zip\n",
            "https://s3.amazonaws.com/tripdata/201610-citibike-tripdata.zip\n",
            "201610-citibike-tripdata.zip\n",
            "https://s3.amazonaws.com/tripdata/201611-citibike-tripdata.zip\n",
            "201611-citibike-tripdata.zip\n",
            "https://s3.amazonaws.com/tripdata/201612-citibike-tripdata.zip\n",
            "201612-citibike-tripdata.zip\n",
            ">>> Concatenating...\n"
          ],
          "name": "stdout"
        }
      ]
    },
    {
      "cell_type": "code",
      "metadata": {
        "id": "BRwVnd5lrM19"
      },
      "source": [
        "full_df1.to_csv(os.path.join('/content/drive/My Drive/3001TS/citibike_1516.csv'))"
      ],
      "execution_count": 18,
      "outputs": []
    },
    {
      "cell_type": "code",
      "metadata": {
        "scrolled": false,
        "id": "37VxYvfDrM1_",
        "outputId": "e3ea7ae6-e6be-4317-aca0-65aa682387d2",
        "colab": {
          "base_uri": "https://localhost:8080/"
        }
      },
      "source": [
        "full_df2 = load_concat_process(list_[24:48])"
      ],
      "execution_count": null,
      "outputs": [
        {
          "output_type": "stream",
          "text": [
            ">>> Start Downloading...\n",
            "https://s3.amazonaws.com/tripdata/201701-citibike-tripdata.csv.zip\n",
            "201701-citibike-tripdata.csv.zip\n",
            "https://s3.amazonaws.com/tripdata/201702-citibike-tripdata.csv.zip\n",
            "201702-citibike-tripdata.csv.zip\n",
            "https://s3.amazonaws.com/tripdata/201703-citibike-tripdata.csv.zip\n",
            "201703-citibike-tripdata.csv.zip\n",
            "https://s3.amazonaws.com/tripdata/201704-citibike-tripdata.csv.zip\n",
            "201704-citibike-tripdata.csv.zip\n",
            "https://s3.amazonaws.com/tripdata/201705-citibike-tripdata.csv.zip\n",
            "201705-citibike-tripdata.csv.zip\n",
            "https://s3.amazonaws.com/tripdata/201706-citibike-tripdata.csv.zip\n",
            "201706-citibike-tripdata.csv.zip\n",
            "https://s3.amazonaws.com/tripdata/201707-citibike-tripdata.csv.zip\n",
            "201707-citibike-tripdata.csv.zip\n",
            "https://s3.amazonaws.com/tripdata/201708-citibike-tripdata.csv.zip\n",
            "201708-citibike-tripdata.csv.zip\n",
            "https://s3.amazonaws.com/tripdata/201709-citibike-tripdata.csv.zip\n",
            "201709-citibike-tripdata.csv.zip\n",
            "https://s3.amazonaws.com/tripdata/201710-citibike-tripdata.csv.zip\n",
            "201710-citibike-tripdata.csv.zip\n"
          ],
          "name": "stdout"
        }
      ]
    },
    {
      "cell_type": "code",
      "metadata": {
        "id": "X4D-wanvrM2A"
      },
      "source": [
        "full_df2.to_csv(os.path.join('/content/drive/My Drive/3001TS/citibike_1718.csv'))"
      ],
      "execution_count": null,
      "outputs": []
    },
    {
      "cell_type": "code",
      "metadata": {
        "id": "Utw6E4iprM2D"
      },
      "source": [
        "full_df3 = load_concat_process(list_[48:])"
      ],
      "execution_count": null,
      "outputs": []
    },
    {
      "cell_type": "code",
      "metadata": {
        "id": "pQ6Z31_YrM2E"
      },
      "source": [
        "full_df3.to_csv(os.path.join('/content/drive/My Drive/3001TS/citibike_1920.csv'))"
      ],
      "execution_count": null,
      "outputs": []
    },
    {
      "cell_type": "code",
      "metadata": {
        "id": "pEYpDu5JrM2I"
      },
      "source": [
        "print('Run time: ', datetime.now()-start)"
      ],
      "execution_count": null,
      "outputs": []
    },
    {
      "cell_type": "markdown",
      "metadata": {
        "id": "lIYqsRzAiHSp"
      },
      "source": [
        "### Testing final file"
      ]
    },
    {
      "cell_type": "code",
      "metadata": {
        "id": "HX-5fURtRF_C"
      },
      "source": [
        "data = pd.read_csv('citibike_1520.csv')\n",
        "data.head()"
      ],
      "execution_count": null,
      "outputs": []
    },
    {
      "cell_type": "code",
      "metadata": {
        "id": "vgOgHSxWrM2M"
      },
      "source": [
        ""
      ],
      "execution_count": null,
      "outputs": []
    }
  ]
}