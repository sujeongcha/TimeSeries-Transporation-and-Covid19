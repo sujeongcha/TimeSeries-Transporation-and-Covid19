{
 "cells": [
  {
   "cell_type": "markdown",
   "metadata": {
    "id": "pcG5XrTFRF9-"
   },
   "source": [
    "### Importing Utilities"
   ]
  },
  {
   "cell_type": "code",
   "execution_count": 1,
   "metadata": {
    "id": "pQdOkB3oRF-B"
   },
   "outputs": [],
   "source": [
    "import pandas as pd\n",
    "import numpy as np\n",
    "import copy\n",
    "import requests\n",
    "from bs4 import BeautifulSoup\n",
    "import time\n",
    "from datetime import datetime\n",
    "from tqdm.notebook import tqdm\n",
    "\n",
    "pd.set_option('chained_assignment',None)"
   ]
  },
  {
   "cell_type": "markdown",
   "metadata": {
    "id": "fB7U5oVDRF-I"
   },
   "source": [
    "### Retrieving URL (raw ridership data & taxi-zone-lookup-table)"
   ]
  },
  {
   "cell_type": "code",
   "execution_count": 2,
   "metadata": {
    "id": "7zYByk1WRF-J"
   },
   "outputs": [],
   "source": [
    "url = \"https://www1.nyc.gov/site/tlc/about/tlc-trip-record-data.page\""
   ]
  },
  {
   "cell_type": "code",
   "execution_count": 3,
   "metadata": {
    "id": "9n44J4LWRF-N"
   },
   "outputs": [],
   "source": [
    "response = requests.get(url)\n",
    "dom = BeautifulSoup(response.content, 'html.parser')\n",
    "table = dom.find_all(\"tbody\")"
   ]
  },
  {
   "cell_type": "code",
   "execution_count": 4,
   "metadata": {
    "id": "R_8Y68D4RF-S"
   },
   "outputs": [],
   "source": [
    "yellow_url_list = []\n",
    "green_url_list = []\n",
    "fhv_url_list = []\n",
    "high_vol_fhv_url_list = []\n",
    "\n",
    "for i in range(6):\n",
    "    urls = table[i].findAll(\"a\")\n",
    "    for url in urls:\n",
    "        url = str(url).split('\"')[1]\n",
    "        if \"yellow\" in url:\n",
    "            yellow_url_list.append(url)\n",
    "        elif \"green\" in url:\n",
    "            green_url_list.append(url)\n",
    "        elif \"fhvhv\" in url:\n",
    "            high_vol_fhv_url_list.append(url)\n",
    "        else:\n",
    "            fhv_url_list.append(url)"
   ]
  },
  {
   "cell_type": "code",
   "execution_count": 5,
   "metadata": {
    "colab": {
     "base_uri": "https://localhost:8080/"
    },
    "id": "C7MTeecpRF-W",
    "outputId": "0600596f-b75c-4b67-8410-37b266672920"
   },
   "outputs": [
    {
     "data": {
      "text/plain": [
       "(66, 66, 66, 17)"
      ]
     },
     "execution_count": 5,
     "metadata": {},
     "output_type": "execute_result"
    }
   ],
   "source": [
    "len(yellow_url_list), len(green_url_list), len(fhv_url_list), len(high_vol_fhv_url_list)"
   ]
  },
  {
   "cell_type": "code",
   "execution_count": 6,
   "metadata": {
    "id": "P7JBwuZSRF-b"
   },
   "outputs": [],
   "source": [
    "# fixing typo (2019-010 => 2019-10)\n",
    "high_vol_fhv_url_list[-3] = 'https://nyc-tlc.s3.amazonaws.com/trip+data/fhvhv_tripdata_2019-10.csv'"
   ]
  },
  {
   "cell_type": "code",
   "execution_count": 7,
   "metadata": {
    "colab": {
     "base_uri": "https://localhost:8080/"
    },
    "id": "lcU5xV5ORF-g",
    "outputId": "04ea0c4c-8a61-49d3-c63e-c2301c4828eb"
   },
   "outputs": [
    {
     "data": {
      "text/plain": [
       "['https://s3.amazonaws.com/nyc-tlc/trip+data/yellow_tripdata_2020-01.csv',\n",
       " 'https://s3.amazonaws.com/nyc-tlc/trip+data/yellow_tripdata_2020-02.csv',\n",
       " 'https://s3.amazonaws.com/nyc-tlc/trip+data/yellow_tripdata_2020-03.csv',\n",
       " 'https://s3.amazonaws.com/nyc-tlc/trip+data/yellow_tripdata_2020-04.csv',\n",
       " 'https://s3.amazonaws.com/nyc-tlc/trip+data/yellow_tripdata_2020-05.csv']"
      ]
     },
     "execution_count": 7,
     "metadata": {},
     "output_type": "execute_result"
    }
   ],
   "source": [
    "yellow_url_list[:5]"
   ]
  },
  {
   "cell_type": "code",
   "execution_count": 8,
   "metadata": {
    "colab": {
     "base_uri": "https://localhost:8080/",
     "height": 230
    },
    "id": "fGAfIUkDRF-m",
    "outputId": "ecf8a39a-0067-4d60-fb96-13896cd58d5d"
   },
   "outputs": [
    {
     "data": {
      "text/html": [
       "<div>\n",
       "<style scoped>\n",
       "    .dataframe tbody tr th:only-of-type {\n",
       "        vertical-align: middle;\n",
       "    }\n",
       "\n",
       "    .dataframe tbody tr th {\n",
       "        vertical-align: top;\n",
       "    }\n",
       "\n",
       "    .dataframe thead th {\n",
       "        text-align: right;\n",
       "    }\n",
       "</style>\n",
       "<table border=\"1\" class=\"dataframe\">\n",
       "  <thead>\n",
       "    <tr style=\"text-align: right;\">\n",
       "      <th></th>\n",
       "      <th>Borough</th>\n",
       "    </tr>\n",
       "    <tr>\n",
       "      <th>LocationID</th>\n",
       "      <th></th>\n",
       "    </tr>\n",
       "  </thead>\n",
       "  <tbody>\n",
       "    <tr>\n",
       "      <th>261</th>\n",
       "      <td>Manhattan</td>\n",
       "    </tr>\n",
       "    <tr>\n",
       "      <th>262</th>\n",
       "      <td>Manhattan</td>\n",
       "    </tr>\n",
       "    <tr>\n",
       "      <th>263</th>\n",
       "      <td>Manhattan</td>\n",
       "    </tr>\n",
       "    <tr>\n",
       "      <th>264</th>\n",
       "      <td>Unknown</td>\n",
       "    </tr>\n",
       "    <tr>\n",
       "      <th>265</th>\n",
       "      <td>Unknown</td>\n",
       "    </tr>\n",
       "  </tbody>\n",
       "</table>\n",
       "</div>"
      ],
      "text/plain": [
       "              Borough\n",
       "LocationID           \n",
       "261         Manhattan\n",
       "262         Manhattan\n",
       "263         Manhattan\n",
       "264           Unknown\n",
       "265           Unknown"
      ]
     },
     "execution_count": 8,
     "metadata": {},
     "output_type": "execute_result"
    }
   ],
   "source": [
    "taxizone = pd.read_csv(\"https://s3.amazonaws.com/nyc-tlc/misc/taxi+_zone_lookup.csv\", index_col='LocationID')\n",
    "taxizone = taxizone[['Borough']]\n",
    "taxizone.tail(5)"
   ]
  },
  {
   "cell_type": "markdown",
   "metadata": {
    "id": "ApQbq_k4RF-r"
   },
   "source": [
    "### Downloading and Saving Orig. Data"
   ]
  },
  {
   "cell_type": "code",
   "execution_count": 9,
   "metadata": {
    "id": "mLQMJwSvRF-r"
   },
   "outputs": [],
   "source": [
    "# start_time = time.time()\n",
    "# data = pd.read_csv(yellow_url_list[0])\n",
    "# print(\"--- %s seconds ---\" % round(time.time() - start_time, 2))"
   ]
  },
  {
   "cell_type": "code",
   "execution_count": 10,
   "metadata": {
    "id": "wrj1K9ppRF-w"
   },
   "outputs": [],
   "source": [
    "def preprocess(df, data_type):\n",
    "    # Leave only necessary columns\n",
    "    if data_type == \"yellow\":\n",
    "        try:\n",
    "            col_needed = ['tpep_pickup_datetime', 'passenger_count', 'trip_distance', 'PULocationID']\n",
    "            df = df[col_needed]\n",
    "        except: \n",
    "            col_needed = ['tpep_pickup_datetime', 'passenger_count', 'trip_distance']\n",
    "            df = df[col_needed]\n",
    "            df['PULocationID'] = 265\n",
    "        df.columns = ['pickup_datetime', 'passenger_count', 'trip_distance', 'PULocationID']\n",
    "    elif data_type == \"green\":\n",
    "        try: \n",
    "            col_needed = ['lpep_pickup_datetime', 'passenger_count', 'trip_distance', 'PULocationID']\n",
    "            df = df[col_needed]\n",
    "        except: \n",
    "            col_needed = ['lpep_pickup_datetime', 'Passenger_count', 'Trip_distance']\n",
    "            df = df[col_needed]\n",
    "            df['PULocationID'] = 265\n",
    "        df.columns = ['pickup_datetime', 'passenger_count', 'trip_distance', 'PULocationID']\n",
    "    else:\n",
    "        print(\"Selecting necessary columns\")\n",
    "        try:\n",
    "            try:\n",
    "                col_needed = ['pickup_datetime', 'dropoff_datetime', 'PULocationID']\n",
    "                df = df[col_needed]\n",
    "            except:\n",
    "                col_needed = ['Pickup_DateTime', 'DropOff_datetime', 'PUlocationID']\n",
    "                df = df[col_needed]    \n",
    "                df = df.rename(columns={\"Pickup_DateTime\": \"pickup_datetime\", \"DropOff_datetime\": \"dropoff_datetime\", \\\n",
    "                                        \"PUlocationID\": \"PULocationID\"})\n",
    "        except:\n",
    "            col_needed = ['Pickup_date']\n",
    "            df = df[col_needed]\n",
    "            df = df.rename(columns={\"Pickup_date\": \"pickup_datetime\"})\n",
    "        print(\"setting passenger_count as 1\")\n",
    "        # placeholder\n",
    "        df['passenger_count'] = 1\n",
    "        # trip_duration in place of trip_distance (but keep the same col_name for easier preprocessing)\n",
    "        print(\"calculating trip_duration\")\n",
    "        trip_duration = []\n",
    "        if 'dropoff_datetime' in df.columns:\n",
    "            for x, y in zip(df['pickup_datetime'], df['dropoff_datetime']):\n",
    "                try:\n",
    "                    delta = (pd.to_datetime(y)-pd.to_datetime(x)).total_seconds()\n",
    "                except:\n",
    "                    delta = 0\n",
    "                trip_duration.append(delta)\n",
    "            df['trip_distance'] = trip_duration\n",
    "        else:\n",
    "            df['trip_distance'] = 0\n",
    "    print(\"pickup_time to datetime object\")\n",
    "    # Change to datetime object\n",
    "    df['pickup_datetime'] = pd.to_datetime(df['pickup_datetime'])\n",
    "    print(\"joining Location ID\")\n",
    "    # Replace LocationID with actual borough names\n",
    "    if 'PULocationID' in df.columns:\n",
    "        df = df.join(taxizone, on='PULocationID')\n",
    "    else:\n",
    "        df['Borough'] = 'UNKNOWN'\n",
    "    print(\"Rearranging & Dropping columns\")\n",
    "    # Drop unnecessary columns & rearrange the columns order\n",
    "    df = df[['pickup_datetime', 'passenger_count', 'trip_distance', 'Borough']]\n",
    "    df = df.groupby(by=[df['pickup_datetime'].dt.date, 'Borough']).agg({'passenger_count': 'sum', 'trip_distance': 'mean'})\n",
    "    return df\n",
    "\n",
    "def load_concat_process(url_list, data_type):\n",
    "    \"\"\"\n",
    "    data_type: 'yellow', 'green', 'fhv', 'hvfhv'\n",
    "    \"\"\"\n",
    "    print(\">>> Start Downloading...\", datetime.now().time())\n",
    "    df_list = []\n",
    "    for url in tqdm(url_list):\n",
    "        df = pd.read_csv(url, index_col=False)\n",
    "        try:\n",
    "            print(\">>> Preprocessing {} at {}\".format(url, datetime.now().time()))\n",
    "            df = preprocess(df, data_type)\n",
    "        except:\n",
    "            print(\"error occured when preprocessing\", url)\n",
    "            break\n",
    "        df_list.append(df)\n",
    "    print(\">>> Concatenating...\")\n",
    "    full_df = pd.concat(df_list, ignore_index=False, sort=False)\n",
    "    \n",
    "#     print(\">>> Start Grouping by Day and Borough\")\n",
    "#     cleaned = preprocess(full_df, data_type)\n",
    "    return full_df"
   ]
  },
  {
   "cell_type": "markdown",
   "metadata": {
    "id": "Cv5PLFqNkkE4"
   },
   "source": [
    "### Yellow Taxi\n"
   ]
  },
  {
   "cell_type": "markdown",
   "metadata": {},
   "source": [
    "#### For Yellow and Green, PULocation is given as longitude/latitude instead of LocationID (setting them as UNKNOWN for now)"
   ]
  },
  {
   "cell_type": "code",
   "execution_count": 14,
   "metadata": {
    "colab": {
     "base_uri": "https://localhost:8080/",
     "height": 600,
     "referenced_widgets": [
      "d7f8a885276f43bf81ab7228966afc25",
      "f34a7c1686034dea9fc87e2a0fcd9334",
      "b54f0758e8684df382d0f2f7dfa80358",
      "f9a28aded14340ad90dba384224325ca",
      "f61841c6d8fe4c6f86d610adade48592",
      "6dff1c958ad4429f9f049ef08ef6aa9b",
      "39b890c1048d40b7b0e477d8f671142b",
      "fdb8041ffe8d4328a8551fabc02ae549"
     ]
    },
    "id": "xlgU0xf7hx7g",
    "outputId": "6d7330ea-522b-4440-edc0-1897b9013c54"
   },
   "outputs": [
    {
     "name": "stdout",
     "output_type": "stream",
     "text": [
      ">>> Start Downloading...\n"
     ]
    },
    {
     "data": {
      "application/vnd.jupyter.widget-view+json": {
       "model_id": "1e3e7f68880a4fa7af519d1805524850",
       "version_major": 2,
       "version_minor": 0
      },
      "text/plain": [
       "HBox(children=(FloatProgress(value=0.0, max=6.0), HTML(value='')))"
      ]
     },
     "metadata": {},
     "output_type": "display_data"
    },
    {
     "name": "stdout",
     "output_type": "stream",
     "text": [
      "\n",
      ">>> Concatenating...\n",
      ">>> Saving As CSV...\n",
      ">>> DONE! :)\n"
     ]
    }
   ],
   "source": [
    "full_yellow = load_concat_process(yellow_url_list[60:], data_type=\"yellow\")\n",
    "print(\">>> Saving As CSV...\")\n",
    "full_yellow.to_csv(\"full_yellow_60_end.csv\")\n",
    "print(\">>> DONE! :)\")"
   ]
  },
  {
   "cell_type": "markdown",
   "metadata": {
    "id": "YwgNfk31moXh"
   },
   "source": [
    "### Green Taxi"
   ]
  },
  {
   "cell_type": "code",
   "execution_count": 17,
   "metadata": {
    "colab": {
     "base_uri": "https://localhost:8080/",
     "height": 600,
     "referenced_widgets": [
      "47915b99efca433c9081eb77efea0ad5",
      "56d9ade20a714240b3ab429a32d1dbba",
      "aa4b4b79410c4053952c89d2bd0b1297",
      "aafa4b71151e47f58221a97de621b3be",
      "6788f58a89f34bc4913b5da34d2a34bb",
      "2be62c9a58ee4ad19c712e5212ffb004",
      "fea8fecf576546519ac6de81a2de3ef8",
      "633d11ac25654b0ea6e33dccbe697551"
     ]
    },
    "id": "sX2lTAPelzO2",
    "outputId": "6b068f4a-6f41-48c7-9745-20cda16475bf"
   },
   "outputs": [
    {
     "name": "stdout",
     "output_type": "stream",
     "text": [
      ">>> Start Downloading...\n"
     ]
    },
    {
     "data": {
      "application/vnd.jupyter.widget-view+json": {
       "model_id": "40368adb67ad47d3ada79991d6e828a1",
       "version_major": 2,
       "version_minor": 0
      },
      "text/plain": [
       "HBox(children=(FloatProgress(value=0.0, max=6.0), HTML(value='')))"
      ]
     },
     "metadata": {},
     "output_type": "display_data"
    },
    {
     "name": "stdout",
     "output_type": "stream",
     "text": [
      "\n",
      ">>> Concatenating...\n",
      ">>> Saving As CSV...\n",
      ">>> DONE! :)\n"
     ]
    }
   ],
   "source": [
    "full_green = load_concat_process(green_url_list[60:], data_type=\"green\")\n",
    "print(\">>> Saving As CSV...\")\n",
    "full_green.to_csv(\"full_green_60_end.csv\")\n",
    "print(\">>> DONE! :)\")"
   ]
  },
  {
   "cell_type": "markdown",
   "metadata": {
    "id": "tumst1Ogmy1o"
   },
   "source": [
    "### For-Hire Vehicle"
   ]
  },
  {
   "cell_type": "code",
   "execution_count": 69,
   "metadata": {
    "colab": {
     "base_uri": "https://localhost:8080/",
     "height": 544,
     "referenced_widgets": [
      "88fd67a32c2643ce971cb282762b70c8",
      "6f6847648d2e4bf4a3699af266c96cc9",
      "e019ab82c32c4763ba3aacc0a477c877",
      "6ad219e8814b441787b720d1cb30d231",
      "27bcb3a546ad4e5bb8fec9d36220e16d",
      "3e28e5d8c696449ea60b7987c74a1ae6",
      "8f44867ef9bc4263a30f9ad03217548b",
      "71a8df193c1f473f8bb6d94504704b51"
     ]
    },
    "id": "S92uZV-om32w",
    "outputId": "0ac45a83-c72c-438a-a8bc-f058a8f7b231"
   },
   "outputs": [
    {
     "name": "stdout",
     "output_type": "stream",
     "text": [
      ">>> Start Downloading... 13:58:33.451221\n"
     ]
    },
    {
     "data": {
      "application/vnd.jupyter.widget-view+json": {
       "model_id": "dfb299f7b3e343378b01dea2756f8c50",
       "version_major": 2,
       "version_minor": 0
      },
      "text/plain": [
       "HBox(children=(FloatProgress(value=0.0, max=7.0), HTML(value='')))"
      ]
     },
     "metadata": {},
     "output_type": "display_data"
    },
    {
     "name": "stdout",
     "output_type": "stream",
     "text": [
      ">>> Preprocessing https://nyc-tlc.s3.amazonaws.com/trip+data/fhv_tripdata_2020-01.csv at 13:58:46.156775\n",
      "Selecting necessary columns\n",
      "setting passenger_count as 1\n",
      "calculating trip_duration\n",
      "pickup_time to datetime object\n",
      "joining Location ID\n",
      "Rearranging & Dropping columns\n",
      ">>> Preprocessing https://nyc-tlc.s3.amazonaws.com/trip+data/fhv_tripdata_2020-02.csv at 14:08:48.865959\n",
      "Selecting necessary columns\n",
      "setting passenger_count as 1\n",
      "calculating trip_duration\n",
      "pickup_time to datetime object\n",
      "joining Location ID\n",
      "Rearranging & Dropping columns\n",
      ">>> Preprocessing https://nyc-tlc.s3.amazonaws.com/trip+data/fhv_tripdata_2020-03.csv at 14:17:07.891807\n",
      "Selecting necessary columns\n",
      "setting passenger_count as 1\n",
      "calculating trip_duration\n",
      "pickup_time to datetime object\n",
      "joining Location ID\n",
      "Rearranging & Dropping columns\n",
      ">>> Preprocessing https://nyc-tlc.s3.amazonaws.com/trip+data/fhv_tripdata_2020-04.csv at 14:23:57.812968\n",
      "Selecting necessary columns\n",
      "setting passenger_count as 1\n",
      "calculating trip_duration\n",
      "pickup_time to datetime object\n",
      "joining Location ID\n",
      "Rearranging & Dropping columns\n",
      ">>> Preprocessing https://nyc-tlc.s3.amazonaws.com/trip+data/fhv_tripdata_2020-05.csv at 14:26:10.442539\n",
      "Selecting necessary columns\n",
      "setting passenger_count as 1\n",
      "calculating trip_duration\n",
      "pickup_time to datetime object\n",
      "joining Location ID\n",
      "Rearranging & Dropping columns\n",
      ">>> Preprocessing https://nyc-tlc.s3.amazonaws.com/trip+data/fhv_tripdata_2020-06.csv at 14:29:15.757654\n",
      "Selecting necessary columns\n",
      "setting passenger_count as 1\n",
      "calculating trip_duration\n",
      "pickup_time to datetime object\n",
      "joining Location ID\n",
      "Rearranging & Dropping columns\n",
      ">>> Preprocessing https://nyc-tlc.s3.amazonaws.com/trip+data/fhv_tripdata_2019-01.csv at 14:36:26.400902\n",
      "Selecting necessary columns\n",
      "setting passenger_count as 1\n",
      "calculating trip_duration\n",
      "pickup_time to datetime object\n",
      "joining Location ID\n",
      "Rearranging & Dropping columns\n",
      "\n",
      ">>> Concatenating...\n",
      ">>> Saving As CSV...\n",
      ">>> DONE! :)\n"
     ]
    }
   ],
   "source": [
    "full_fhv = load_concat_process(fhv_url_list[:7], data_type=\"fhv\")\n",
    "print(\">>> Saving As CSV...\")\n",
    "full_fhv.to_csv(\"full_fhv_0_7.csv\")\n",
    "print(\">>> DONE! :)\")"
   ]
  },
  {
   "cell_type": "markdown",
   "metadata": {
    "id": "lIYqsRzAiHSp"
   },
   "source": [
    "### High Volume For-Hire Vehicle\n"
   ]
  },
  {
   "cell_type": "code",
   "execution_count": null,
   "metadata": {
    "colab": {
     "base_uri": "https://localhost:8080/",
     "height": 544,
     "referenced_widgets": [
      "b3699cd7e71b401fba062044d6888fff",
      "63ab50a747dc471493882c85d4a03e62",
      "1f86269b61d04da3b44be947559c2330",
      "16287f04e58a4533b359ef28c49cc7de",
      "0ee2a477f6b94a57949f23ec8cf8d516",
      "87aca72e60274784803082b1dde6b42a",
      "59d58fa5c05841c09e9b8e75508fc828",
      "290d377765ef4386b3efb11ae1e2ed7b"
     ]
    },
    "id": "HX-5fURtRF_C",
    "outputId": "08fa6212-fff5-40f9-98e7-84fd24109e9e"
   },
   "outputs": [],
   "source": [
    "full_hvfhv = load_concat_process(high_vol_fhv_url_list, data_type=\"hvfhv\")\n",
    "print(\">>> Saving As CSV...\")\n",
    "full_hvfhv.to_csv(\"full_hvfhv.csv\")\n",
    "print(\">>> DONE! :)\")"
   ]
  },
  {
   "cell_type": "markdown",
   "metadata": {},
   "source": [
    "### Concatenating into final"
   ]
  },
  {
   "cell_type": "code",
   "execution_count": 73,
   "metadata": {},
   "outputs": [],
   "source": [
    "import os\n",
    "files = [f for f in os.listdir('.') if os.path.isfile(f)]"
   ]
  },
  {
   "cell_type": "code",
   "execution_count": 74,
   "metadata": {},
   "outputs": [],
   "source": [
    "def concat_to_full(data_type):\n",
    "    type_csv = [x for x in files if data_type in x]\n",
    "    df_list = []\n",
    "    df_lens = []\n",
    "    for csv in type_csv:\n",
    "        df = pd.read_csv(csv)\n",
    "        mask1 = pd.to_datetime(df.pickup_datetime).dt.year >= 2015\n",
    "        mask2 = pd.to_datetime(df.pickup_datetime).dt.year <= 2020\n",
    "        final_mask = mask1 & mask2\n",
    "        df = df[final_mask]\n",
    "        df_list.append(df)\n",
    "        df_lens.append(len(df))\n",
    "    print(data_type, \"individual len:\", df_lens, \"total len:\", sum(df_lens))\n",
    "    full = pd.concat(df_list)\n",
    "    full = full.sort_values(by=['pickup_datetime'])\n",
    "    filename = \"full_\" + data_type + \".csv\"\n",
    "    full.to_csv(filename, index=False)"
   ]
  },
  {
   "cell_type": "code",
   "execution_count": 75,
   "metadata": {},
   "outputs": [
    {
     "name": "stdout",
     "output_type": "stream",
     "text": [
      "yellow individual len: [2141, 2262, 2233, 2133, 437, 91, 217, 1100, 150, 184] total len: 10948\n",
      "green individual len: [1866, 1953, 1944, 2010, 428, 505, 976, 184] total len: 9866\n",
      "fhv individual len: [1174, 2128, 2142, 2128, 671, 303, 184, 611] total len: 9341\n"
     ]
    }
   ],
   "source": [
    "concat_to_full(\"yellow\")\n",
    "concat_to_full(\"green\")\n",
    "concat_to_full(\"fhv\")"
   ]
  },
  {
   "cell_type": "code",
   "execution_count": 76,
   "metadata": {},
   "outputs": [
    {
     "data": {
      "text/plain": [
       "['.gitignore',\n",
       " 'full_fhv_0_7.csv',\n",
       " 'full_fhv_10_20.csv',\n",
       " 'full_fhv_20_30.csv',\n",
       " 'full_fhv_30_40.csv',\n",
       " 'full_fhv_40_50.csv',\n",
       " 'full_fhv_50_60.csv',\n",
       " 'full_fhv_60_end.csv',\n",
       " 'full_fhv_7_10.csv',\n",
       " 'full_green_0_10.csv',\n",
       " 'full_green_10_20.csv',\n",
       " 'full_green_20_30.csv',\n",
       " 'full_green_30_40.csv',\n",
       " 'full_green_40_45.csv',\n",
       " 'full_green_45_50.csv',\n",
       " 'full_green_50_60.csv',\n",
       " 'full_green_60_end.csv',\n",
       " 'full_yellow_0_10.csv',\n",
       " 'full_yellow_10_20.csv',\n",
       " 'full_yellow_20_30.csv',\n",
       " 'full_yellow_30_40.csv',\n",
       " 'full_yellow_40_45.csv',\n",
       " 'full_yellow_45_48.csv',\n",
       " 'full_yellow_48_49.csv',\n",
       " 'full_yellow_49_55.csv',\n",
       " 'full_yellow_55_60.csv',\n",
       " 'full_yellow_60_end.csv',\n",
       " 'README.md',\n",
       " 'taxi_data_crawling.ipynb']"
      ]
     },
     "execution_count": 76,
     "metadata": {},
     "output_type": "execute_result"
    }
   ],
   "source": [
    "files"
   ]
  },
  {
   "cell_type": "code",
   "execution_count": 80,
   "metadata": {},
   "outputs": [
    {
     "data": {
      "text/plain": [
       "'https://nyc-tlc.s3.amazonaws.com/trip+data/fhv_tripdata_2020-06.csv'"
      ]
     },
     "execution_count": 80,
     "metadata": {},
     "output_type": "execute_result"
    }
   ],
   "source": [
    "fhv_url_list[5]"
   ]
  },
  {
   "cell_type": "code",
   "execution_count": 81,
   "metadata": {},
   "outputs": [
    {
     "name": "stdout",
     "output_type": "stream",
     "text": [
      ">>> Start Downloading... 17:01:17.578584\n"
     ]
    },
    {
     "data": {
      "application/vnd.jupyter.widget-view+json": {
       "model_id": "32cebbb18a484e1e99d3a838011c3172",
       "version_major": 2,
       "version_minor": 0
      },
      "text/plain": [
       "HBox(children=(FloatProgress(value=0.0, max=1.0), HTML(value='')))"
      ]
     },
     "metadata": {},
     "output_type": "display_data"
    },
    {
     "name": "stdout",
     "output_type": "stream",
     "text": [
      ">>> Preprocessing https://nyc-tlc.s3.amazonaws.com/trip+data/fhv_tripdata_2020-06.csv at 17:01:24.881807\n",
      "Selecting necessary columns\n",
      "setting passenger_count as 1\n",
      "calculating trip_duration\n",
      "pickup_time to datetime object\n",
      "joining Location ID\n",
      "Rearranging & Dropping columns\n",
      "\n",
      ">>> Concatenating...\n",
      ">>> Saving As CSV...\n",
      ">>> DONE! :)\n"
     ]
    }
   ],
   "source": [
    "fhv_202006=load_concat_process([fhv_url_list[5]], data_type=\"fhv\")\n",
    "print(\">>> Saving As CSV...\")\n",
    "fhv_202006.to_csv(\"full_fhv_202006.csv\")\n",
    "print(\">>> DONE! :)\")"
   ]
  },
  {
   "cell_type": "code",
   "execution_count": 114,
   "metadata": {},
   "outputs": [],
   "source": [
    "fhv_202006_csv = pd.read_csv(\"https://nyc-tlc.s3.amazonaws.com/trip+data/fhv_tripdata_2020-06.csv\")"
   ]
  },
  {
   "cell_type": "code",
   "execution_count": 115,
   "metadata": {},
   "outputs": [],
   "source": [
    "col_needed = ['pickup_datetime', 'dropoff_datetime', 'PULocationID']\n",
    "fhv_202006_csv = fhv_202006_csv[col_needed]"
   ]
  },
  {
   "cell_type": "code",
   "execution_count": 116,
   "metadata": {},
   "outputs": [],
   "source": [
    "fhv_202006_csv['passenger_count'] = 1"
   ]
  },
  {
   "cell_type": "code",
   "execution_count": 117,
   "metadata": {},
   "outputs": [],
   "source": [
    "trip_duration = []\n",
    "if 'dropoff_datetime' in fhv_202006_csv.columns:\n",
    "    for x, y in zip(fhv_202006_csv['pickup_datetime'], fhv_202006_csv['dropoff_datetime']):\n",
    "        try:\n",
    "            delta = (pd.to_datetime(y)-pd.to_datetime(x)).total_seconds()\n",
    "        except:\n",
    "            delta = 0\n",
    "        trip_duration.append(delta)\n",
    "    fhv_202006_csv['trip_distance'] = trip_duration\n",
    "else:\n",
    "    fhv_202006_csv['trip_distance'] = 0"
   ]
  },
  {
   "cell_type": "code",
   "execution_count": 118,
   "metadata": {},
   "outputs": [],
   "source": [
    "fhv_202006_csv['Borough'] = 'UNKNOWN'"
   ]
  },
  {
   "cell_type": "code",
   "execution_count": 119,
   "metadata": {},
   "outputs": [],
   "source": [
    "fhv_202006_csv = fhv_202006_csv[['pickup_datetime', 'passenger_count', 'trip_distance', 'Borough']]\n",
    "fhv_202006_csv['pickup_datetime'] = pd.to_datetime(fhv_202006_csv['pickup_datetime'])\n",
    "fhv_202006_csv = fhv_202006_csv.groupby(by=[fhv_202006_csv['pickup_datetime'].dt.date, 'Borough']).agg({'passenger_count': 'sum', 'trip_distance': 'mean'})"
   ]
  },
  {
   "cell_type": "code",
   "execution_count": 120,
   "metadata": {},
   "outputs": [
    {
     "data": {
      "text/html": [
       "<div>\n",
       "<style scoped>\n",
       "    .dataframe tbody tr th:only-of-type {\n",
       "        vertical-align: middle;\n",
       "    }\n",
       "\n",
       "    .dataframe tbody tr th {\n",
       "        vertical-align: top;\n",
       "    }\n",
       "\n",
       "    .dataframe thead th {\n",
       "        text-align: right;\n",
       "    }\n",
       "</style>\n",
       "<table border=\"1\" class=\"dataframe\">\n",
       "  <thead>\n",
       "    <tr style=\"text-align: right;\">\n",
       "      <th></th>\n",
       "      <th></th>\n",
       "      <th>passenger_count</th>\n",
       "      <th>trip_distance</th>\n",
       "    </tr>\n",
       "    <tr>\n",
       "      <th>pickup_datetime</th>\n",
       "      <th>Borough</th>\n",
       "      <th></th>\n",
       "      <th></th>\n",
       "    </tr>\n",
       "  </thead>\n",
       "  <tbody>\n",
       "    <tr>\n",
       "      <th>2020-06-01</th>\n",
       "      <th>UNKNOWN</th>\n",
       "      <td>29834</td>\n",
       "      <td>1242.284474</td>\n",
       "    </tr>\n",
       "    <tr>\n",
       "      <th>2020-06-02</th>\n",
       "      <th>UNKNOWN</th>\n",
       "      <td>26118</td>\n",
       "      <td>1192.747684</td>\n",
       "    </tr>\n",
       "    <tr>\n",
       "      <th>2020-06-03</th>\n",
       "      <th>UNKNOWN</th>\n",
       "      <td>27505</td>\n",
       "      <td>1195.516197</td>\n",
       "    </tr>\n",
       "    <tr>\n",
       "      <th>2020-06-04</th>\n",
       "      <th>UNKNOWN</th>\n",
       "      <td>27979</td>\n",
       "      <td>1176.211158</td>\n",
       "    </tr>\n",
       "    <tr>\n",
       "      <th>2020-06-05</th>\n",
       "      <th>UNKNOWN</th>\n",
       "      <td>28727</td>\n",
       "      <td>1227.630940</td>\n",
       "    </tr>\n",
       "    <tr>\n",
       "      <th>2020-06-06</th>\n",
       "      <th>UNKNOWN</th>\n",
       "      <td>21305</td>\n",
       "      <td>1054.220136</td>\n",
       "    </tr>\n",
       "    <tr>\n",
       "      <th>2020-06-07</th>\n",
       "      <th>UNKNOWN</th>\n",
       "      <td>18722</td>\n",
       "      <td>973.265089</td>\n",
       "    </tr>\n",
       "    <tr>\n",
       "      <th>2020-06-08</th>\n",
       "      <th>UNKNOWN</th>\n",
       "      <td>31724</td>\n",
       "      <td>1166.309009</td>\n",
       "    </tr>\n",
       "    <tr>\n",
       "      <th>2020-06-09</th>\n",
       "      <th>UNKNOWN</th>\n",
       "      <td>32110</td>\n",
       "      <td>1167.407194</td>\n",
       "    </tr>\n",
       "    <tr>\n",
       "      <th>2020-06-10</th>\n",
       "      <th>UNKNOWN</th>\n",
       "      <td>33479</td>\n",
       "      <td>1172.072105</td>\n",
       "    </tr>\n",
       "    <tr>\n",
       "      <th>2020-06-11</th>\n",
       "      <th>UNKNOWN</th>\n",
       "      <td>31975</td>\n",
       "      <td>1169.225457</td>\n",
       "    </tr>\n",
       "    <tr>\n",
       "      <th>2020-06-12</th>\n",
       "      <th>UNKNOWN</th>\n",
       "      <td>34528</td>\n",
       "      <td>1228.581238</td>\n",
       "    </tr>\n",
       "    <tr>\n",
       "      <th>2020-06-13</th>\n",
       "      <th>UNKNOWN</th>\n",
       "      <td>26921</td>\n",
       "      <td>1060.256788</td>\n",
       "    </tr>\n",
       "    <tr>\n",
       "      <th>2020-06-14</th>\n",
       "      <th>UNKNOWN</th>\n",
       "      <td>21329</td>\n",
       "      <td>991.247410</td>\n",
       "    </tr>\n",
       "    <tr>\n",
       "      <th>2020-06-15</th>\n",
       "      <th>UNKNOWN</th>\n",
       "      <td>32966</td>\n",
       "      <td>1242.841321</td>\n",
       "    </tr>\n",
       "    <tr>\n",
       "      <th>2020-06-16</th>\n",
       "      <th>UNKNOWN</th>\n",
       "      <td>32161</td>\n",
       "      <td>1207.395914</td>\n",
       "    </tr>\n",
       "    <tr>\n",
       "      <th>2020-06-17</th>\n",
       "      <th>UNKNOWN</th>\n",
       "      <td>33368</td>\n",
       "      <td>1212.060897</td>\n",
       "    </tr>\n",
       "    <tr>\n",
       "      <th>2020-06-18</th>\n",
       "      <th>UNKNOWN</th>\n",
       "      <td>33532</td>\n",
       "      <td>1220.065609</td>\n",
       "    </tr>\n",
       "    <tr>\n",
       "      <th>2020-06-19</th>\n",
       "      <th>UNKNOWN</th>\n",
       "      <td>35125</td>\n",
       "      <td>1241.644925</td>\n",
       "    </tr>\n",
       "    <tr>\n",
       "      <th>2020-06-20</th>\n",
       "      <th>UNKNOWN</th>\n",
       "      <td>28054</td>\n",
       "      <td>1043.875633</td>\n",
       "    </tr>\n",
       "    <tr>\n",
       "      <th>2020-06-21</th>\n",
       "      <th>UNKNOWN</th>\n",
       "      <td>23302</td>\n",
       "      <td>957.229337</td>\n",
       "    </tr>\n",
       "    <tr>\n",
       "      <th>2020-06-22</th>\n",
       "      <th>UNKNOWN</th>\n",
       "      <td>36900</td>\n",
       "      <td>1206.962005</td>\n",
       "    </tr>\n",
       "    <tr>\n",
       "      <th>2020-06-23</th>\n",
       "      <th>UNKNOWN</th>\n",
       "      <td>35850</td>\n",
       "      <td>1206.680642</td>\n",
       "    </tr>\n",
       "    <tr>\n",
       "      <th>2020-06-24</th>\n",
       "      <th>UNKNOWN</th>\n",
       "      <td>36509</td>\n",
       "      <td>1269.565696</td>\n",
       "    </tr>\n",
       "    <tr>\n",
       "      <th>2020-06-25</th>\n",
       "      <th>UNKNOWN</th>\n",
       "      <td>36050</td>\n",
       "      <td>1266.431456</td>\n",
       "    </tr>\n",
       "    <tr>\n",
       "      <th>2020-06-26</th>\n",
       "      <th>UNKNOWN</th>\n",
       "      <td>37655</td>\n",
       "      <td>1232.824379</td>\n",
       "    </tr>\n",
       "    <tr>\n",
       "      <th>2020-06-27</th>\n",
       "      <th>UNKNOWN</th>\n",
       "      <td>29040</td>\n",
       "      <td>1032.178271</td>\n",
       "    </tr>\n",
       "    <tr>\n",
       "      <th>2020-06-28</th>\n",
       "      <th>UNKNOWN</th>\n",
       "      <td>23562</td>\n",
       "      <td>942.686359</td>\n",
       "    </tr>\n",
       "    <tr>\n",
       "      <th>2020-06-29</th>\n",
       "      <th>UNKNOWN</th>\n",
       "      <td>37264</td>\n",
       "      <td>1211.229363</td>\n",
       "    </tr>\n",
       "    <tr>\n",
       "      <th>2020-06-30</th>\n",
       "      <th>UNKNOWN</th>\n",
       "      <td>36260</td>\n",
       "      <td>1287.752482</td>\n",
       "    </tr>\n",
       "  </tbody>\n",
       "</table>\n",
       "</div>"
      ],
      "text/plain": [
       "                         passenger_count  trip_distance\n",
       "pickup_datetime Borough                                \n",
       "2020-06-01      UNKNOWN            29834    1242.284474\n",
       "2020-06-02      UNKNOWN            26118    1192.747684\n",
       "2020-06-03      UNKNOWN            27505    1195.516197\n",
       "2020-06-04      UNKNOWN            27979    1176.211158\n",
       "2020-06-05      UNKNOWN            28727    1227.630940\n",
       "2020-06-06      UNKNOWN            21305    1054.220136\n",
       "2020-06-07      UNKNOWN            18722     973.265089\n",
       "2020-06-08      UNKNOWN            31724    1166.309009\n",
       "2020-06-09      UNKNOWN            32110    1167.407194\n",
       "2020-06-10      UNKNOWN            33479    1172.072105\n",
       "2020-06-11      UNKNOWN            31975    1169.225457\n",
       "2020-06-12      UNKNOWN            34528    1228.581238\n",
       "2020-06-13      UNKNOWN            26921    1060.256788\n",
       "2020-06-14      UNKNOWN            21329     991.247410\n",
       "2020-06-15      UNKNOWN            32966    1242.841321\n",
       "2020-06-16      UNKNOWN            32161    1207.395914\n",
       "2020-06-17      UNKNOWN            33368    1212.060897\n",
       "2020-06-18      UNKNOWN            33532    1220.065609\n",
       "2020-06-19      UNKNOWN            35125    1241.644925\n",
       "2020-06-20      UNKNOWN            28054    1043.875633\n",
       "2020-06-21      UNKNOWN            23302     957.229337\n",
       "2020-06-22      UNKNOWN            36900    1206.962005\n",
       "2020-06-23      UNKNOWN            35850    1206.680642\n",
       "2020-06-24      UNKNOWN            36509    1269.565696\n",
       "2020-06-25      UNKNOWN            36050    1266.431456\n",
       "2020-06-26      UNKNOWN            37655    1232.824379\n",
       "2020-06-27      UNKNOWN            29040    1032.178271\n",
       "2020-06-28      UNKNOWN            23562     942.686359\n",
       "2020-06-29      UNKNOWN            37264    1211.229363\n",
       "2020-06-30      UNKNOWN            36260    1287.752482"
      ]
     },
     "execution_count": 120,
     "metadata": {},
     "output_type": "execute_result"
    }
   ],
   "source": [
    "fhv_202006_csv"
   ]
  },
  {
   "cell_type": "code",
   "execution_count": null,
   "metadata": {},
   "outputs": [],
   "source": []
  }
 ],
 "metadata": {
  "colab": {
   "name": "taxi_data_crawling.ipynb",
   "provenance": []
  },
  "kernelspec": {
   "display_name": "Python 3",
   "language": "python",
   "name": "python3"
  },
  "language_info": {
   "codemirror_mode": {
    "name": "ipython",
    "version": 3
   },
   "file_extension": ".py",
   "mimetype": "text/x-python",
   "name": "python",
   "nbconvert_exporter": "python",
   "pygments_lexer": "ipython3",
   "version": "3.7.3"
  },
  "widgets": {
   "application/vnd.jupyter.widget-state+json": {
    "0ee2a477f6b94a57949f23ec8cf8d516": {
     "model_module": "@jupyter-widgets/controls",
     "model_name": "ProgressStyleModel",
     "state": {
      "_model_module": "@jupyter-widgets/controls",
      "_model_module_version": "1.5.0",
      "_model_name": "ProgressStyleModel",
      "_view_count": null,
      "_view_module": "@jupyter-widgets/base",
      "_view_module_version": "1.2.0",
      "_view_name": "StyleView",
      "bar_color": null,
      "description_width": "initial"
     }
    },
    "16287f04e58a4533b359ef28c49cc7de": {
     "model_module": "@jupyter-widgets/controls",
     "model_name": "HTMLModel",
     "state": {
      "_dom_classes": [],
      "_model_module": "@jupyter-widgets/controls",
      "_model_module_version": "1.5.0",
      "_model_name": "HTMLModel",
      "_view_count": null,
      "_view_module": "@jupyter-widgets/controls",
      "_view_module_version": "1.5.0",
      "_view_name": "HTMLView",
      "description": "",
      "description_tooltip": null,
      "layout": "IPY_MODEL_290d377765ef4386b3efb11ae1e2ed7b",
      "placeholder": "​",
      "style": "IPY_MODEL_59d58fa5c05841c09e9b8e75508fc828",
      "value": " 2/2 [01:49&lt;00:00, 54.87s/it]"
     }
    },
    "1f86269b61d04da3b44be947559c2330": {
     "model_module": "@jupyter-widgets/controls",
     "model_name": "FloatProgressModel",
     "state": {
      "_dom_classes": [],
      "_model_module": "@jupyter-widgets/controls",
      "_model_module_version": "1.5.0",
      "_model_name": "FloatProgressModel",
      "_view_count": null,
      "_view_module": "@jupyter-widgets/controls",
      "_view_module_version": "1.5.0",
      "_view_name": "ProgressView",
      "bar_style": "success",
      "description": "100%",
      "description_tooltip": null,
      "layout": "IPY_MODEL_87aca72e60274784803082b1dde6b42a",
      "max": 2,
      "min": 0,
      "orientation": "horizontal",
      "style": "IPY_MODEL_0ee2a477f6b94a57949f23ec8cf8d516",
      "value": 2
     }
    },
    "27bcb3a546ad4e5bb8fec9d36220e16d": {
     "model_module": "@jupyter-widgets/controls",
     "model_name": "ProgressStyleModel",
     "state": {
      "_model_module": "@jupyter-widgets/controls",
      "_model_module_version": "1.5.0",
      "_model_name": "ProgressStyleModel",
      "_view_count": null,
      "_view_module": "@jupyter-widgets/base",
      "_view_module_version": "1.2.0",
      "_view_name": "StyleView",
      "bar_color": null,
      "description_width": "initial"
     }
    },
    "290d377765ef4386b3efb11ae1e2ed7b": {
     "model_module": "@jupyter-widgets/base",
     "model_name": "LayoutModel",
     "state": {
      "_model_module": "@jupyter-widgets/base",
      "_model_module_version": "1.2.0",
      "_model_name": "LayoutModel",
      "_view_count": null,
      "_view_module": "@jupyter-widgets/base",
      "_view_module_version": "1.2.0",
      "_view_name": "LayoutView",
      "align_content": null,
      "align_items": null,
      "align_self": null,
      "border": null,
      "bottom": null,
      "display": null,
      "flex": null,
      "flex_flow": null,
      "grid_area": null,
      "grid_auto_columns": null,
      "grid_auto_flow": null,
      "grid_auto_rows": null,
      "grid_column": null,
      "grid_gap": null,
      "grid_row": null,
      "grid_template_areas": null,
      "grid_template_columns": null,
      "grid_template_rows": null,
      "height": null,
      "justify_content": null,
      "justify_items": null,
      "left": null,
      "margin": null,
      "max_height": null,
      "max_width": null,
      "min_height": null,
      "min_width": null,
      "object_fit": null,
      "object_position": null,
      "order": null,
      "overflow": null,
      "overflow_x": null,
      "overflow_y": null,
      "padding": null,
      "right": null,
      "top": null,
      "visibility": null,
      "width": null
     }
    },
    "2be62c9a58ee4ad19c712e5212ffb004": {
     "model_module": "@jupyter-widgets/base",
     "model_name": "LayoutModel",
     "state": {
      "_model_module": "@jupyter-widgets/base",
      "_model_module_version": "1.2.0",
      "_model_name": "LayoutModel",
      "_view_count": null,
      "_view_module": "@jupyter-widgets/base",
      "_view_module_version": "1.2.0",
      "_view_name": "LayoutView",
      "align_content": null,
      "align_items": null,
      "align_self": null,
      "border": null,
      "bottom": null,
      "display": null,
      "flex": null,
      "flex_flow": null,
      "grid_area": null,
      "grid_auto_columns": null,
      "grid_auto_flow": null,
      "grid_auto_rows": null,
      "grid_column": null,
      "grid_gap": null,
      "grid_row": null,
      "grid_template_areas": null,
      "grid_template_columns": null,
      "grid_template_rows": null,
      "height": null,
      "justify_content": null,
      "justify_items": null,
      "left": null,
      "margin": null,
      "max_height": null,
      "max_width": null,
      "min_height": null,
      "min_width": null,
      "object_fit": null,
      "object_position": null,
      "order": null,
      "overflow": null,
      "overflow_x": null,
      "overflow_y": null,
      "padding": null,
      "right": null,
      "top": null,
      "visibility": null,
      "width": null
     }
    },
    "39b890c1048d40b7b0e477d8f671142b": {
     "model_module": "@jupyter-widgets/controls",
     "model_name": "DescriptionStyleModel",
     "state": {
      "_model_module": "@jupyter-widgets/controls",
      "_model_module_version": "1.5.0",
      "_model_name": "DescriptionStyleModel",
      "_view_count": null,
      "_view_module": "@jupyter-widgets/base",
      "_view_module_version": "1.2.0",
      "_view_name": "StyleView",
      "description_width": ""
     }
    },
    "3e28e5d8c696449ea60b7987c74a1ae6": {
     "model_module": "@jupyter-widgets/base",
     "model_name": "LayoutModel",
     "state": {
      "_model_module": "@jupyter-widgets/base",
      "_model_module_version": "1.2.0",
      "_model_name": "LayoutModel",
      "_view_count": null,
      "_view_module": "@jupyter-widgets/base",
      "_view_module_version": "1.2.0",
      "_view_name": "LayoutView",
      "align_content": null,
      "align_items": null,
      "align_self": null,
      "border": null,
      "bottom": null,
      "display": null,
      "flex": null,
      "flex_flow": null,
      "grid_area": null,
      "grid_auto_columns": null,
      "grid_auto_flow": null,
      "grid_auto_rows": null,
      "grid_column": null,
      "grid_gap": null,
      "grid_row": null,
      "grid_template_areas": null,
      "grid_template_columns": null,
      "grid_template_rows": null,
      "height": null,
      "justify_content": null,
      "justify_items": null,
      "left": null,
      "margin": null,
      "max_height": null,
      "max_width": null,
      "min_height": null,
      "min_width": null,
      "object_fit": null,
      "object_position": null,
      "order": null,
      "overflow": null,
      "overflow_x": null,
      "overflow_y": null,
      "padding": null,
      "right": null,
      "top": null,
      "visibility": null,
      "width": null
     }
    },
    "47915b99efca433c9081eb77efea0ad5": {
     "model_module": "@jupyter-widgets/controls",
     "model_name": "HBoxModel",
     "state": {
      "_dom_classes": [],
      "_model_module": "@jupyter-widgets/controls",
      "_model_module_version": "1.5.0",
      "_model_name": "HBoxModel",
      "_view_count": null,
      "_view_module": "@jupyter-widgets/controls",
      "_view_module_version": "1.5.0",
      "_view_name": "HBoxView",
      "box_style": "",
      "children": [
       "IPY_MODEL_aa4b4b79410c4053952c89d2bd0b1297",
       "IPY_MODEL_aafa4b71151e47f58221a97de621b3be"
      ],
      "layout": "IPY_MODEL_56d9ade20a714240b3ab429a32d1dbba"
     }
    },
    "56d9ade20a714240b3ab429a32d1dbba": {
     "model_module": "@jupyter-widgets/base",
     "model_name": "LayoutModel",
     "state": {
      "_model_module": "@jupyter-widgets/base",
      "_model_module_version": "1.2.0",
      "_model_name": "LayoutModel",
      "_view_count": null,
      "_view_module": "@jupyter-widgets/base",
      "_view_module_version": "1.2.0",
      "_view_name": "LayoutView",
      "align_content": null,
      "align_items": null,
      "align_self": null,
      "border": null,
      "bottom": null,
      "display": null,
      "flex": null,
      "flex_flow": null,
      "grid_area": null,
      "grid_auto_columns": null,
      "grid_auto_flow": null,
      "grid_auto_rows": null,
      "grid_column": null,
      "grid_gap": null,
      "grid_row": null,
      "grid_template_areas": null,
      "grid_template_columns": null,
      "grid_template_rows": null,
      "height": null,
      "justify_content": null,
      "justify_items": null,
      "left": null,
      "margin": null,
      "max_height": null,
      "max_width": null,
      "min_height": null,
      "min_width": null,
      "object_fit": null,
      "object_position": null,
      "order": null,
      "overflow": null,
      "overflow_x": null,
      "overflow_y": null,
      "padding": null,
      "right": null,
      "top": null,
      "visibility": null,
      "width": null
     }
    },
    "59d58fa5c05841c09e9b8e75508fc828": {
     "model_module": "@jupyter-widgets/controls",
     "model_name": "DescriptionStyleModel",
     "state": {
      "_model_module": "@jupyter-widgets/controls",
      "_model_module_version": "1.5.0",
      "_model_name": "DescriptionStyleModel",
      "_view_count": null,
      "_view_module": "@jupyter-widgets/base",
      "_view_module_version": "1.2.0",
      "_view_name": "StyleView",
      "description_width": ""
     }
    },
    "633d11ac25654b0ea6e33dccbe697551": {
     "model_module": "@jupyter-widgets/base",
     "model_name": "LayoutModel",
     "state": {
      "_model_module": "@jupyter-widgets/base",
      "_model_module_version": "1.2.0",
      "_model_name": "LayoutModel",
      "_view_count": null,
      "_view_module": "@jupyter-widgets/base",
      "_view_module_version": "1.2.0",
      "_view_name": "LayoutView",
      "align_content": null,
      "align_items": null,
      "align_self": null,
      "border": null,
      "bottom": null,
      "display": null,
      "flex": null,
      "flex_flow": null,
      "grid_area": null,
      "grid_auto_columns": null,
      "grid_auto_flow": null,
      "grid_auto_rows": null,
      "grid_column": null,
      "grid_gap": null,
      "grid_row": null,
      "grid_template_areas": null,
      "grid_template_columns": null,
      "grid_template_rows": null,
      "height": null,
      "justify_content": null,
      "justify_items": null,
      "left": null,
      "margin": null,
      "max_height": null,
      "max_width": null,
      "min_height": null,
      "min_width": null,
      "object_fit": null,
      "object_position": null,
      "order": null,
      "overflow": null,
      "overflow_x": null,
      "overflow_y": null,
      "padding": null,
      "right": null,
      "top": null,
      "visibility": null,
      "width": null
     }
    },
    "63ab50a747dc471493882c85d4a03e62": {
     "model_module": "@jupyter-widgets/base",
     "model_name": "LayoutModel",
     "state": {
      "_model_module": "@jupyter-widgets/base",
      "_model_module_version": "1.2.0",
      "_model_name": "LayoutModel",
      "_view_count": null,
      "_view_module": "@jupyter-widgets/base",
      "_view_module_version": "1.2.0",
      "_view_name": "LayoutView",
      "align_content": null,
      "align_items": null,
      "align_self": null,
      "border": null,
      "bottom": null,
      "display": null,
      "flex": null,
      "flex_flow": null,
      "grid_area": null,
      "grid_auto_columns": null,
      "grid_auto_flow": null,
      "grid_auto_rows": null,
      "grid_column": null,
      "grid_gap": null,
      "grid_row": null,
      "grid_template_areas": null,
      "grid_template_columns": null,
      "grid_template_rows": null,
      "height": null,
      "justify_content": null,
      "justify_items": null,
      "left": null,
      "margin": null,
      "max_height": null,
      "max_width": null,
      "min_height": null,
      "min_width": null,
      "object_fit": null,
      "object_position": null,
      "order": null,
      "overflow": null,
      "overflow_x": null,
      "overflow_y": null,
      "padding": null,
      "right": null,
      "top": null,
      "visibility": null,
      "width": null
     }
    },
    "6788f58a89f34bc4913b5da34d2a34bb": {
     "model_module": "@jupyter-widgets/controls",
     "model_name": "ProgressStyleModel",
     "state": {
      "_model_module": "@jupyter-widgets/controls",
      "_model_module_version": "1.5.0",
      "_model_name": "ProgressStyleModel",
      "_view_count": null,
      "_view_module": "@jupyter-widgets/base",
      "_view_module_version": "1.2.0",
      "_view_name": "StyleView",
      "bar_color": null,
      "description_width": "initial"
     }
    },
    "6ad219e8814b441787b720d1cb30d231": {
     "model_module": "@jupyter-widgets/controls",
     "model_name": "HTMLModel",
     "state": {
      "_dom_classes": [],
      "_model_module": "@jupyter-widgets/controls",
      "_model_module_version": "1.5.0",
      "_model_name": "HTMLModel",
      "_view_count": null,
      "_view_module": "@jupyter-widgets/controls",
      "_view_module_version": "1.5.0",
      "_view_name": "HTMLView",
      "description": "",
      "description_tooltip": null,
      "layout": "IPY_MODEL_71a8df193c1f473f8bb6d94504704b51",
      "placeholder": "​",
      "style": "IPY_MODEL_8f44867ef9bc4263a30f9ad03217548b",
      "value": " 2/2 [00:10&lt;00:00,  5.05s/it]"
     }
    },
    "6dff1c958ad4429f9f049ef08ef6aa9b": {
     "model_module": "@jupyter-widgets/base",
     "model_name": "LayoutModel",
     "state": {
      "_model_module": "@jupyter-widgets/base",
      "_model_module_version": "1.2.0",
      "_model_name": "LayoutModel",
      "_view_count": null,
      "_view_module": "@jupyter-widgets/base",
      "_view_module_version": "1.2.0",
      "_view_name": "LayoutView",
      "align_content": null,
      "align_items": null,
      "align_self": null,
      "border": null,
      "bottom": null,
      "display": null,
      "flex": null,
      "flex_flow": null,
      "grid_area": null,
      "grid_auto_columns": null,
      "grid_auto_flow": null,
      "grid_auto_rows": null,
      "grid_column": null,
      "grid_gap": null,
      "grid_row": null,
      "grid_template_areas": null,
      "grid_template_columns": null,
      "grid_template_rows": null,
      "height": null,
      "justify_content": null,
      "justify_items": null,
      "left": null,
      "margin": null,
      "max_height": null,
      "max_width": null,
      "min_height": null,
      "min_width": null,
      "object_fit": null,
      "object_position": null,
      "order": null,
      "overflow": null,
      "overflow_x": null,
      "overflow_y": null,
      "padding": null,
      "right": null,
      "top": null,
      "visibility": null,
      "width": null
     }
    },
    "6f6847648d2e4bf4a3699af266c96cc9": {
     "model_module": "@jupyter-widgets/base",
     "model_name": "LayoutModel",
     "state": {
      "_model_module": "@jupyter-widgets/base",
      "_model_module_version": "1.2.0",
      "_model_name": "LayoutModel",
      "_view_count": null,
      "_view_module": "@jupyter-widgets/base",
      "_view_module_version": "1.2.0",
      "_view_name": "LayoutView",
      "align_content": null,
      "align_items": null,
      "align_self": null,
      "border": null,
      "bottom": null,
      "display": null,
      "flex": null,
      "flex_flow": null,
      "grid_area": null,
      "grid_auto_columns": null,
      "grid_auto_flow": null,
      "grid_auto_rows": null,
      "grid_column": null,
      "grid_gap": null,
      "grid_row": null,
      "grid_template_areas": null,
      "grid_template_columns": null,
      "grid_template_rows": null,
      "height": null,
      "justify_content": null,
      "justify_items": null,
      "left": null,
      "margin": null,
      "max_height": null,
      "max_width": null,
      "min_height": null,
      "min_width": null,
      "object_fit": null,
      "object_position": null,
      "order": null,
      "overflow": null,
      "overflow_x": null,
      "overflow_y": null,
      "padding": null,
      "right": null,
      "top": null,
      "visibility": null,
      "width": null
     }
    },
    "71a8df193c1f473f8bb6d94504704b51": {
     "model_module": "@jupyter-widgets/base",
     "model_name": "LayoutModel",
     "state": {
      "_model_module": "@jupyter-widgets/base",
      "_model_module_version": "1.2.0",
      "_model_name": "LayoutModel",
      "_view_count": null,
      "_view_module": "@jupyter-widgets/base",
      "_view_module_version": "1.2.0",
      "_view_name": "LayoutView",
      "align_content": null,
      "align_items": null,
      "align_self": null,
      "border": null,
      "bottom": null,
      "display": null,
      "flex": null,
      "flex_flow": null,
      "grid_area": null,
      "grid_auto_columns": null,
      "grid_auto_flow": null,
      "grid_auto_rows": null,
      "grid_column": null,
      "grid_gap": null,
      "grid_row": null,
      "grid_template_areas": null,
      "grid_template_columns": null,
      "grid_template_rows": null,
      "height": null,
      "justify_content": null,
      "justify_items": null,
      "left": null,
      "margin": null,
      "max_height": null,
      "max_width": null,
      "min_height": null,
      "min_width": null,
      "object_fit": null,
      "object_position": null,
      "order": null,
      "overflow": null,
      "overflow_x": null,
      "overflow_y": null,
      "padding": null,
      "right": null,
      "top": null,
      "visibility": null,
      "width": null
     }
    },
    "87aca72e60274784803082b1dde6b42a": {
     "model_module": "@jupyter-widgets/base",
     "model_name": "LayoutModel",
     "state": {
      "_model_module": "@jupyter-widgets/base",
      "_model_module_version": "1.2.0",
      "_model_name": "LayoutModel",
      "_view_count": null,
      "_view_module": "@jupyter-widgets/base",
      "_view_module_version": "1.2.0",
      "_view_name": "LayoutView",
      "align_content": null,
      "align_items": null,
      "align_self": null,
      "border": null,
      "bottom": null,
      "display": null,
      "flex": null,
      "flex_flow": null,
      "grid_area": null,
      "grid_auto_columns": null,
      "grid_auto_flow": null,
      "grid_auto_rows": null,
      "grid_column": null,
      "grid_gap": null,
      "grid_row": null,
      "grid_template_areas": null,
      "grid_template_columns": null,
      "grid_template_rows": null,
      "height": null,
      "justify_content": null,
      "justify_items": null,
      "left": null,
      "margin": null,
      "max_height": null,
      "max_width": null,
      "min_height": null,
      "min_width": null,
      "object_fit": null,
      "object_position": null,
      "order": null,
      "overflow": null,
      "overflow_x": null,
      "overflow_y": null,
      "padding": null,
      "right": null,
      "top": null,
      "visibility": null,
      "width": null
     }
    },
    "88fd67a32c2643ce971cb282762b70c8": {
     "model_module": "@jupyter-widgets/controls",
     "model_name": "HBoxModel",
     "state": {
      "_dom_classes": [],
      "_model_module": "@jupyter-widgets/controls",
      "_model_module_version": "1.5.0",
      "_model_name": "HBoxModel",
      "_view_count": null,
      "_view_module": "@jupyter-widgets/controls",
      "_view_module_version": "1.5.0",
      "_view_name": "HBoxView",
      "box_style": "",
      "children": [
       "IPY_MODEL_e019ab82c32c4763ba3aacc0a477c877",
       "IPY_MODEL_6ad219e8814b441787b720d1cb30d231"
      ],
      "layout": "IPY_MODEL_6f6847648d2e4bf4a3699af266c96cc9"
     }
    },
    "8f44867ef9bc4263a30f9ad03217548b": {
     "model_module": "@jupyter-widgets/controls",
     "model_name": "DescriptionStyleModel",
     "state": {
      "_model_module": "@jupyter-widgets/controls",
      "_model_module_version": "1.5.0",
      "_model_name": "DescriptionStyleModel",
      "_view_count": null,
      "_view_module": "@jupyter-widgets/base",
      "_view_module_version": "1.2.0",
      "_view_name": "StyleView",
      "description_width": ""
     }
    },
    "aa4b4b79410c4053952c89d2bd0b1297": {
     "model_module": "@jupyter-widgets/controls",
     "model_name": "FloatProgressModel",
     "state": {
      "_dom_classes": [],
      "_model_module": "@jupyter-widgets/controls",
      "_model_module_version": "1.5.0",
      "_model_name": "FloatProgressModel",
      "_view_count": null,
      "_view_module": "@jupyter-widgets/controls",
      "_view_module_version": "1.5.0",
      "_view_name": "ProgressView",
      "bar_style": "success",
      "description": "100%",
      "description_tooltip": null,
      "layout": "IPY_MODEL_2be62c9a58ee4ad19c712e5212ffb004",
      "max": 2,
      "min": 0,
      "orientation": "horizontal",
      "style": "IPY_MODEL_6788f58a89f34bc4913b5da34d2a34bb",
      "value": 2
     }
    },
    "aafa4b71151e47f58221a97de621b3be": {
     "model_module": "@jupyter-widgets/controls",
     "model_name": "HTMLModel",
     "state": {
      "_dom_classes": [],
      "_model_module": "@jupyter-widgets/controls",
      "_model_module_version": "1.5.0",
      "_model_name": "HTMLModel",
      "_view_count": null,
      "_view_module": "@jupyter-widgets/controls",
      "_view_module_version": "1.5.0",
      "_view_name": "HTMLView",
      "description": "",
      "description_tooltip": null,
      "layout": "IPY_MODEL_633d11ac25654b0ea6e33dccbe697551",
      "placeholder": "​",
      "style": "IPY_MODEL_fea8fecf576546519ac6de81a2de3ef8",
      "value": " 2/2 [01:59&lt;00:00, 59.51s/it]"
     }
    },
    "b3699cd7e71b401fba062044d6888fff": {
     "model_module": "@jupyter-widgets/controls",
     "model_name": "HBoxModel",
     "state": {
      "_dom_classes": [],
      "_model_module": "@jupyter-widgets/controls",
      "_model_module_version": "1.5.0",
      "_model_name": "HBoxModel",
      "_view_count": null,
      "_view_module": "@jupyter-widgets/controls",
      "_view_module_version": "1.5.0",
      "_view_name": "HBoxView",
      "box_style": "",
      "children": [
       "IPY_MODEL_1f86269b61d04da3b44be947559c2330",
       "IPY_MODEL_16287f04e58a4533b359ef28c49cc7de"
      ],
      "layout": "IPY_MODEL_63ab50a747dc471493882c85d4a03e62"
     }
    },
    "b54f0758e8684df382d0f2f7dfa80358": {
     "model_module": "@jupyter-widgets/controls",
     "model_name": "FloatProgressModel",
     "state": {
      "_dom_classes": [],
      "_model_module": "@jupyter-widgets/controls",
      "_model_module_version": "1.5.0",
      "_model_name": "FloatProgressModel",
      "_view_count": null,
      "_view_module": "@jupyter-widgets/controls",
      "_view_module_version": "1.5.0",
      "_view_name": "ProgressView",
      "bar_style": "success",
      "description": "100%",
      "description_tooltip": null,
      "layout": "IPY_MODEL_6dff1c958ad4429f9f049ef08ef6aa9b",
      "max": 2,
      "min": 0,
      "orientation": "horizontal",
      "style": "IPY_MODEL_f61841c6d8fe4c6f86d610adade48592",
      "value": 2
     }
    },
    "d7f8a885276f43bf81ab7228966afc25": {
     "model_module": "@jupyter-widgets/controls",
     "model_name": "HBoxModel",
     "state": {
      "_dom_classes": [],
      "_model_module": "@jupyter-widgets/controls",
      "_model_module_version": "1.5.0",
      "_model_name": "HBoxModel",
      "_view_count": null,
      "_view_module": "@jupyter-widgets/controls",
      "_view_module_version": "1.5.0",
      "_view_name": "HBoxView",
      "box_style": "",
      "children": [
       "IPY_MODEL_b54f0758e8684df382d0f2f7dfa80358",
       "IPY_MODEL_f9a28aded14340ad90dba384224325ca"
      ],
      "layout": "IPY_MODEL_f34a7c1686034dea9fc87e2a0fcd9334"
     }
    },
    "e019ab82c32c4763ba3aacc0a477c877": {
     "model_module": "@jupyter-widgets/controls",
     "model_name": "FloatProgressModel",
     "state": {
      "_dom_classes": [],
      "_model_module": "@jupyter-widgets/controls",
      "_model_module_version": "1.5.0",
      "_model_name": "FloatProgressModel",
      "_view_count": null,
      "_view_module": "@jupyter-widgets/controls",
      "_view_module_version": "1.5.0",
      "_view_name": "ProgressView",
      "bar_style": "success",
      "description": "100%",
      "description_tooltip": null,
      "layout": "IPY_MODEL_3e28e5d8c696449ea60b7987c74a1ae6",
      "max": 2,
      "min": 0,
      "orientation": "horizontal",
      "style": "IPY_MODEL_27bcb3a546ad4e5bb8fec9d36220e16d",
      "value": 2
     }
    },
    "f34a7c1686034dea9fc87e2a0fcd9334": {
     "model_module": "@jupyter-widgets/base",
     "model_name": "LayoutModel",
     "state": {
      "_model_module": "@jupyter-widgets/base",
      "_model_module_version": "1.2.0",
      "_model_name": "LayoutModel",
      "_view_count": null,
      "_view_module": "@jupyter-widgets/base",
      "_view_module_version": "1.2.0",
      "_view_name": "LayoutView",
      "align_content": null,
      "align_items": null,
      "align_self": null,
      "border": null,
      "bottom": null,
      "display": null,
      "flex": null,
      "flex_flow": null,
      "grid_area": null,
      "grid_auto_columns": null,
      "grid_auto_flow": null,
      "grid_auto_rows": null,
      "grid_column": null,
      "grid_gap": null,
      "grid_row": null,
      "grid_template_areas": null,
      "grid_template_columns": null,
      "grid_template_rows": null,
      "height": null,
      "justify_content": null,
      "justify_items": null,
      "left": null,
      "margin": null,
      "max_height": null,
      "max_width": null,
      "min_height": null,
      "min_width": null,
      "object_fit": null,
      "object_position": null,
      "order": null,
      "overflow": null,
      "overflow_x": null,
      "overflow_y": null,
      "padding": null,
      "right": null,
      "top": null,
      "visibility": null,
      "width": null
     }
    },
    "f61841c6d8fe4c6f86d610adade48592": {
     "model_module": "@jupyter-widgets/controls",
     "model_name": "ProgressStyleModel",
     "state": {
      "_model_module": "@jupyter-widgets/controls",
      "_model_module_version": "1.5.0",
      "_model_name": "ProgressStyleModel",
      "_view_count": null,
      "_view_module": "@jupyter-widgets/base",
      "_view_module_version": "1.2.0",
      "_view_name": "StyleView",
      "bar_color": null,
      "description_width": "initial"
     }
    },
    "f9a28aded14340ad90dba384224325ca": {
     "model_module": "@jupyter-widgets/controls",
     "model_name": "HTMLModel",
     "state": {
      "_dom_classes": [],
      "_model_module": "@jupyter-widgets/controls",
      "_model_module_version": "1.5.0",
      "_model_name": "HTMLModel",
      "_view_count": null,
      "_view_module": "@jupyter-widgets/controls",
      "_view_module_version": "1.5.0",
      "_view_name": "HTMLView",
      "description": "",
      "description_tooltip": null,
      "layout": "IPY_MODEL_fdb8041ffe8d4328a8551fabc02ae549",
      "placeholder": "​",
      "style": "IPY_MODEL_39b890c1048d40b7b0e477d8f671142b",
      "value": " 2/2 [05:13&lt;00:00, 156.94s/it]"
     }
    },
    "fdb8041ffe8d4328a8551fabc02ae549": {
     "model_module": "@jupyter-widgets/base",
     "model_name": "LayoutModel",
     "state": {
      "_model_module": "@jupyter-widgets/base",
      "_model_module_version": "1.2.0",
      "_model_name": "LayoutModel",
      "_view_count": null,
      "_view_module": "@jupyter-widgets/base",
      "_view_module_version": "1.2.0",
      "_view_name": "LayoutView",
      "align_content": null,
      "align_items": null,
      "align_self": null,
      "border": null,
      "bottom": null,
      "display": null,
      "flex": null,
      "flex_flow": null,
      "grid_area": null,
      "grid_auto_columns": null,
      "grid_auto_flow": null,
      "grid_auto_rows": null,
      "grid_column": null,
      "grid_gap": null,
      "grid_row": null,
      "grid_template_areas": null,
      "grid_template_columns": null,
      "grid_template_rows": null,
      "height": null,
      "justify_content": null,
      "justify_items": null,
      "left": null,
      "margin": null,
      "max_height": null,
      "max_width": null,
      "min_height": null,
      "min_width": null,
      "object_fit": null,
      "object_position": null,
      "order": null,
      "overflow": null,
      "overflow_x": null,
      "overflow_y": null,
      "padding": null,
      "right": null,
      "top": null,
      "visibility": null,
      "width": null
     }
    },
    "fea8fecf576546519ac6de81a2de3ef8": {
     "model_module": "@jupyter-widgets/controls",
     "model_name": "DescriptionStyleModel",
     "state": {
      "_model_module": "@jupyter-widgets/controls",
      "_model_module_version": "1.5.0",
      "_model_name": "DescriptionStyleModel",
      "_view_count": null,
      "_view_module": "@jupyter-widgets/base",
      "_view_module_version": "1.2.0",
      "_view_name": "StyleView",
      "description_width": ""
     }
    }
   }
  }
 },
 "nbformat": 4,
 "nbformat_minor": 1
}
