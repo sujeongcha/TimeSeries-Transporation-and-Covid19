{
 "cells": [
  {
   "cell_type": "code",
   "execution_count": 1,
   "metadata": {},
   "outputs": [
    {
     "name": "stderr",
     "output_type": "stream",
     "text": [
      "Importing plotly failed. Interactive plots will not work.\n"
     ]
    }
   ],
   "source": [
    "from fbprophet import Prophet"
   ]
  },
  {
   "cell_type": "code",
   "execution_count": 2,
   "metadata": {},
   "outputs": [],
   "source": [
    "df_preCovid_train = pd.read_pickle(\"../Data/Subway_Data/preCovid_train.pkl\")\n",
    "df_preCovid_test = pd.read_pickle(\"../Data/Subway_Data/preCovid_test.pkl\")"
   ]
  },
  {
   "cell_type": "code",
   "execution_count": 3,
   "metadata": {},
   "outputs": [
    {
     "data": {
      "text/html": [
       "<div>\n",
       "<style scoped>\n",
       "    .dataframe tbody tr th:only-of-type {\n",
       "        vertical-align: middle;\n",
       "    }\n",
       "\n",
       "    .dataframe tbody tr th {\n",
       "        vertical-align: top;\n",
       "    }\n",
       "\n",
       "    .dataframe thead th {\n",
       "        text-align: right;\n",
       "    }\n",
       "</style>\n",
       "<table border=\"1\" class=\"dataframe\">\n",
       "  <thead>\n",
       "    <tr style=\"text-align: right;\">\n",
       "      <th></th>\n",
       "      <th>entries</th>\n",
       "      <th>year</th>\n",
       "      <th>month</th>\n",
       "      <th>day</th>\n",
       "      <th>weekday</th>\n",
       "      <th>timeindex</th>\n",
       "      <th>trend</th>\n",
       "      <th>entries_detrended</th>\n",
       "      <th>entries_detrended_deweekdayed</th>\n",
       "      <th>entries_detrended_deweekdayed_demonthed</th>\n",
       "      <th>factor_model</th>\n",
       "    </tr>\n",
       "    <tr>\n",
       "      <th>date</th>\n",
       "      <th></th>\n",
       "      <th></th>\n",
       "      <th></th>\n",
       "      <th></th>\n",
       "      <th></th>\n",
       "      <th></th>\n",
       "      <th></th>\n",
       "      <th></th>\n",
       "      <th></th>\n",
       "      <th></th>\n",
       "      <th></th>\n",
       "    </tr>\n",
       "  </thead>\n",
       "  <tbody>\n",
       "    <tr>\n",
       "      <th>2015-01-03</th>\n",
       "      <td>2682846.0</td>\n",
       "      <td>2015</td>\n",
       "      <td>1</td>\n",
       "      <td>3</td>\n",
       "      <td>5</td>\n",
       "      <td>0.0</td>\n",
       "      <td>4.713360e+06</td>\n",
       "      <td>0.569200</td>\n",
       "      <td>0.787814</td>\n",
       "      <td>0.847921</td>\n",
       "      <td>3.164028e+06</td>\n",
       "    </tr>\n",
       "    <tr>\n",
       "      <th>2015-01-04</th>\n",
       "      <td>2481666.0</td>\n",
       "      <td>2015</td>\n",
       "      <td>1</td>\n",
       "      <td>4</td>\n",
       "      <td>6</td>\n",
       "      <td>1.0</td>\n",
       "      <td>4.713276e+06</td>\n",
       "      <td>0.526527</td>\n",
       "      <td>0.901450</td>\n",
       "      <td>0.970227</td>\n",
       "      <td>2.557820e+06</td>\n",
       "    </tr>\n",
       "    <tr>\n",
       "      <th>2015-01-05</th>\n",
       "      <td>5104111.0</td>\n",
       "      <td>2015</td>\n",
       "      <td>1</td>\n",
       "      <td>5</td>\n",
       "      <td>0</td>\n",
       "      <td>2.0</td>\n",
       "      <td>4.713192e+06</td>\n",
       "      <td>1.082941</td>\n",
       "      <td>1.022742</td>\n",
       "      <td>1.100773</td>\n",
       "      <td>4.636842e+06</td>\n",
       "    </tr>\n",
       "    <tr>\n",
       "      <th>2015-01-06</th>\n",
       "      <td>5061648.0</td>\n",
       "      <td>2015</td>\n",
       "      <td>1</td>\n",
       "      <td>6</td>\n",
       "      <td>1</td>\n",
       "      <td>3.0</td>\n",
       "      <td>4.713108e+06</td>\n",
       "      <td>1.073951</td>\n",
       "      <td>0.938890</td>\n",
       "      <td>1.010524</td>\n",
       "      <td>5.008935e+06</td>\n",
       "    </tr>\n",
       "    <tr>\n",
       "      <th>2015-01-07</th>\n",
       "      <td>5116883.0</td>\n",
       "      <td>2015</td>\n",
       "      <td>1</td>\n",
       "      <td>7</td>\n",
       "      <td>2</td>\n",
       "      <td>4.0</td>\n",
       "      <td>4.713024e+06</td>\n",
       "      <td>1.085690</td>\n",
       "      <td>0.926845</td>\n",
       "      <td>0.997559</td>\n",
       "      <td>5.129403e+06</td>\n",
       "    </tr>\n",
       "  </tbody>\n",
       "</table>\n",
       "</div>"
      ],
      "text/plain": [
       "              entries  year  month  day  weekday  timeindex         trend  \\\n",
       "date                                                                        \n",
       "2015-01-03  2682846.0  2015      1    3        5        0.0  4.713360e+06   \n",
       "2015-01-04  2481666.0  2015      1    4        6        1.0  4.713276e+06   \n",
       "2015-01-05  5104111.0  2015      1    5        0        2.0  4.713192e+06   \n",
       "2015-01-06  5061648.0  2015      1    6        1        3.0  4.713108e+06   \n",
       "2015-01-07  5116883.0  2015      1    7        2        4.0  4.713024e+06   \n",
       "\n",
       "            entries_detrended  entries_detrended_deweekdayed  \\\n",
       "date                                                           \n",
       "2015-01-03           0.569200                       0.787814   \n",
       "2015-01-04           0.526527                       0.901450   \n",
       "2015-01-05           1.082941                       1.022742   \n",
       "2015-01-06           1.073951                       0.938890   \n",
       "2015-01-07           1.085690                       0.926845   \n",
       "\n",
       "            entries_detrended_deweekdayed_demonthed  factor_model  \n",
       "date                                                               \n",
       "2015-01-03                                 0.847921  3.164028e+06  \n",
       "2015-01-04                                 0.970227  2.557820e+06  \n",
       "2015-01-05                                 1.100773  4.636842e+06  \n",
       "2015-01-06                                 1.010524  5.008935e+06  \n",
       "2015-01-07                                 0.997559  5.129403e+06  "
      ]
     },
     "execution_count": 3,
     "metadata": {},
     "output_type": "execute_result"
    }
   ],
   "source": [
    "df_preCovid_train.head()"
   ]
  },
  {
   "cell_type": "code",
   "execution_count": 4,
   "metadata": {},
   "outputs": [],
   "source": [
    "# creating a new df for prophet test\n",
    "\n",
    "preCovid_prophet = df_preCovid_train.copy(deep=True)\n",
    "preCovid_prophet['ds'] = preCovid_prophet.index\n",
    "preCovid_prophet['y'] = preCovid_prophet['entries']\n",
    "preCovid_prophet.reset_index(inplace=True)\n",
    "preCovid_prophet = preCovid_prophet[['ds', 'y']]"
   ]
  },
  {
   "cell_type": "code",
   "execution_count": 5,
   "metadata": {},
   "outputs": [
    {
     "data": {
      "text/html": [
       "<div>\n",
       "<style scoped>\n",
       "    .dataframe tbody tr th:only-of-type {\n",
       "        vertical-align: middle;\n",
       "    }\n",
       "\n",
       "    .dataframe tbody tr th {\n",
       "        vertical-align: top;\n",
       "    }\n",
       "\n",
       "    .dataframe thead th {\n",
       "        text-align: right;\n",
       "    }\n",
       "</style>\n",
       "<table border=\"1\" class=\"dataframe\">\n",
       "  <thead>\n",
       "    <tr style=\"text-align: right;\">\n",
       "      <th></th>\n",
       "      <th>ds</th>\n",
       "      <th>y</th>\n",
       "    </tr>\n",
       "  </thead>\n",
       "  <tbody>\n",
       "    <tr>\n",
       "      <th>0</th>\n",
       "      <td>2015-01-03</td>\n",
       "      <td>2682846.0</td>\n",
       "    </tr>\n",
       "    <tr>\n",
       "      <th>1</th>\n",
       "      <td>2015-01-04</td>\n",
       "      <td>2481666.0</td>\n",
       "    </tr>\n",
       "    <tr>\n",
       "      <th>2</th>\n",
       "      <td>2015-01-05</td>\n",
       "      <td>5104111.0</td>\n",
       "    </tr>\n",
       "    <tr>\n",
       "      <th>3</th>\n",
       "      <td>2015-01-06</td>\n",
       "      <td>5061648.0</td>\n",
       "    </tr>\n",
       "    <tr>\n",
       "      <th>4</th>\n",
       "      <td>2015-01-07</td>\n",
       "      <td>5116883.0</td>\n",
       "    </tr>\n",
       "  </tbody>\n",
       "</table>\n",
       "</div>"
      ],
      "text/plain": [
       "          ds          y\n",
       "0 2015-01-03  2682846.0\n",
       "1 2015-01-04  2481666.0\n",
       "2 2015-01-05  5104111.0\n",
       "3 2015-01-06  5061648.0\n",
       "4 2015-01-07  5116883.0"
      ]
     },
     "execution_count": 5,
     "metadata": {},
     "output_type": "execute_result"
    }
   ],
   "source": [
    "preCovid_prophet.head()"
   ]
  },
  {
   "cell_type": "code",
   "execution_count": 6,
   "metadata": {},
   "outputs": [
    {
     "data": {
      "text/plain": [
       "(1459, 2)"
      ]
     },
     "execution_count": 6,
     "metadata": {},
     "output_type": "execute_result"
    }
   ],
   "source": [
    "preCovid_prophet.shape"
   ]
  },
  {
   "cell_type": "code",
   "execution_count": null,
   "metadata": {},
   "outputs": [
    {
     "name": "stderr",
     "output_type": "stream",
     "text": [
      "INFO:fbprophet:Disabling daily seasonality. Run prophet with daily_seasonality=True to override this.\n"
     ]
    }
   ],
   "source": [
    "# fitting df to prophet\n",
    "\n",
    "m = Prophet(yearly_seasonality=False)\n",
    "m.fit(preCovid_prophet)"
   ]
  },
  {
   "cell_type": "code",
   "execution_count": null,
   "metadata": {},
   "outputs": [],
   "source": []
  },
  {
   "cell_type": "code",
   "execution_count": null,
   "metadata": {},
   "outputs": [],
   "source": []
  },
  {
   "cell_type": "code",
   "execution_count": null,
   "metadata": {},
   "outputs": [],
   "source": []
  },
  {
   "cell_type": "code",
   "execution_count": null,
   "metadata": {},
   "outputs": [],
   "source": []
  }
 ],
 "metadata": {
  "kernelspec": {
   "display_name": "Python 3",
   "language": "python",
   "name": "python3"
  },
  "language_info": {
   "codemirror_mode": {
    "name": "ipython",
    "version": 3
   },
   "file_extension": ".py",
   "mimetype": "text/x-python",
   "name": "python",
   "nbconvert_exporter": "python",
   "pygments_lexer": "ipython3",
   "version": "3.7.7"
  }
 },
 "nbformat": 4,
 "nbformat_minor": 4
}
