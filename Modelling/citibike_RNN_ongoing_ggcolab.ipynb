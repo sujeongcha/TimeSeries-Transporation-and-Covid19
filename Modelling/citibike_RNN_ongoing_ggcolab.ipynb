{
  "nbformat": 4,
  "nbformat_minor": 0,
  "metadata": {
    "kernelspec": {
      "display_name": "Python 3",
      "language": "python",
      "name": "python3"
    },
    "language_info": {
      "codemirror_mode": {
        "name": "ipython",
        "version": 3
      },
      "file_extension": ".py",
      "mimetype": "text/x-python",
      "name": "python",
      "nbconvert_exporter": "python",
      "pygments_lexer": "ipython3",
      "version": "3.7.4"
    },
    "colab": {
      "name": "citibike_RNN.ipynb",
      "provenance": [],
      "collapsed_sections": []
    }
  },
  "cells": [
    {
      "cell_type": "code",
      "metadata": {
        "colab": {
          "base_uri": "https://localhost:8080/"
        },
        "id": "5Tev_CIVuV1n",
        "outputId": "9c9176ae-c220-4b1c-e9f0-30bfdc4857fb"
      },
      "source": [
        "from google.colab import drive\n",
        "drive.mount('/content/drive')"
      ],
      "execution_count": 1,
      "outputs": [
        {
          "output_type": "stream",
          "text": [
            "Mounted at /content/drive\n"
          ],
          "name": "stdout"
        }
      ]
    },
    {
      "cell_type": "code",
      "metadata": {
        "id": "ChTQ31HvuZM4"
      },
      "source": [
        "# #torch.cuda.empty_cache()\n",
        "# # memory footprint support libraries/code\n",
        "# !ln -sf /opt/bin/nvidia-smi /usr/bin/nvidia-smi\n",
        "# !pip install gputil\n",
        "# !pip install psutil\n",
        "# !pip install humanize\n",
        "# import psutil\n",
        "# import humanize\n",
        "# import os\n",
        "# import GPUtil as GPU\n",
        "# GPUs = GPU.getGPUs()\n",
        "# # XXX: only one GPU on Colab and isn’t guaranteed\n",
        "# gpu = GPUs[0]\n",
        "# def printm():\n",
        "#  process = psutil.Process(os.getpid())\n",
        "#  print(\"Gen RAM Free: \" + humanize.naturalsize( psutil.virtual_memory().available ), \" | Proc size: \" + humanize.naturalsize( process.memory_info().rss))\n",
        "#  print(\"GPU RAM Free: {0:.0f}MB | Used: {1:.0f}MB | Util {2:3.0f}% | Total {3:.0f}MB\".format(gpu.memoryFree, gpu.memoryUsed, gpu.memoryUtil*100, gpu.memoryTotal))\n",
        "# printm() "
      ],
      "execution_count": 5,
      "outputs": []
    },
    {
      "cell_type": "code",
      "metadata": {
        "colab": {
          "base_uri": "https://localhost:8080/"
        },
        "id": "-wZBDz6euNWJ",
        "outputId": "9a1e6147-be6e-473d-925a-cca744f69303"
      },
      "source": [
        "# import pandas_datareader\n",
        "# from pandas_datareader import data, wb\n",
        "import numpy as np\n",
        "import pandas as pd\n",
        "import matplotlib.pyplot as plt\n",
        "import seaborn as sns\n",
        "import datetime\n",
        "from statsmodels.tsa.stattools import adfuller\n",
        "from statsmodels.tsa.seasonal import seasonal_decompose\n",
        "from statsmodels.tsa.arima_model import ARIMA\n",
        "from statsmodels.graphics.tsaplots import plot_acf, plot_pacf\n",
        "import warnings\n",
        "warnings.filterwarnings('ignore')\n",
        "\n",
        "%matplotlib inline\n"
      ],
      "execution_count": 6,
      "outputs": [
        {
          "output_type": "stream",
          "text": [
            "/usr/local/lib/python3.6/dist-packages/statsmodels/tools/_testing.py:19: FutureWarning: pandas.util.testing is deprecated. Use the functions in the public API at pandas.testing instead.\n",
            "  import pandas.util.testing as tm\n"
          ],
          "name": "stderr"
        }
      ]
    },
    {
      "cell_type": "code",
      "metadata": {
        "id": "8SctiTn6uNWK"
      },
      "source": [
        "import logging\n",
        "import os\n",
        "import time\n",
        "import sys\n",
        "\n",
        "import torch\n",
        "import torch.nn as nn\n",
        "from torch.optim import lr_scheduler\n",
        "import torch.optim as optim\n",
        "from torch.utils import data\n",
        "import torchvision\n",
        "from torchvision import datasets\n",
        "import torchvision.transforms as transforms\n",
        "from torch.optim.lr_scheduler import StepLR\n",
        "import torch.nn.functional as F\n",
        "from torch.utils.data import DataLoader,Dataset, TensorDataset"
      ],
      "execution_count": 39,
      "outputs": []
    },
    {
      "cell_type": "code",
      "metadata": {
        "id": "HTe37gAGuNWK"
      },
      "source": [
        "import statsmodels.api as sm\n",
        "from statsmodels.graphics.api import qqplot\n",
        "from scipy import stats as ss"
      ],
      "execution_count": 8,
      "outputs": []
    },
    {
      "cell_type": "code",
      "metadata": {
        "colab": {
          "base_uri": "https://localhost:8080/",
          "height": 197
        },
        "id": "l6JwyHLTuNWK",
        "outputId": "109b6a85-e9b6-453d-816f-5983925af9b8"
      },
      "source": [
        "data = pd.read_csv(os.path.join('/content/drive/My Drive/3001TS/citibike_1520.csv'))\n",
        "data.head()"
      ],
      "execution_count": 10,
      "outputs": [
        {
          "output_type": "execute_result",
          "data": {
            "text/html": [
              "<div>\n",
              "<style scoped>\n",
              "    .dataframe tbody tr th:only-of-type {\n",
              "        vertical-align: middle;\n",
              "    }\n",
              "\n",
              "    .dataframe tbody tr th {\n",
              "        vertical-align: top;\n",
              "    }\n",
              "\n",
              "    .dataframe thead th {\n",
              "        text-align: right;\n",
              "    }\n",
              "</style>\n",
              "<table border=\"1\" class=\"dataframe\">\n",
              "  <thead>\n",
              "    <tr style=\"text-align: right;\">\n",
              "      <th></th>\n",
              "      <th>Unnamed: 0</th>\n",
              "      <th>starttime_day</th>\n",
              "      <th>usertype</th>\n",
              "      <th>tripduration</th>\n",
              "      <th>tripdistance</th>\n",
              "    </tr>\n",
              "  </thead>\n",
              "  <tbody>\n",
              "    <tr>\n",
              "      <th>0</th>\n",
              "      <td>0</td>\n",
              "      <td>2015-01-01</td>\n",
              "      <td>5317</td>\n",
              "      <td>801.806658</td>\n",
              "      <td>0.880446</td>\n",
              "    </tr>\n",
              "    <tr>\n",
              "      <th>1</th>\n",
              "      <td>1</td>\n",
              "      <td>2015-01-02</td>\n",
              "      <td>11304</td>\n",
              "      <td>731.240977</td>\n",
              "      <td>0.929326</td>\n",
              "    </tr>\n",
              "    <tr>\n",
              "      <th>2</th>\n",
              "      <td>2</td>\n",
              "      <td>2015-01-03</td>\n",
              "      <td>4478</td>\n",
              "      <td>655.284279</td>\n",
              "      <td>0.860687</td>\n",
              "    </tr>\n",
              "    <tr>\n",
              "      <th>3</th>\n",
              "      <td>3</td>\n",
              "      <td>2015-01-04</td>\n",
              "      <td>7849</td>\n",
              "      <td>679.554211</td>\n",
              "      <td>0.896166</td>\n",
              "    </tr>\n",
              "    <tr>\n",
              "      <th>4</th>\n",
              "      <td>4</td>\n",
              "      <td>2015-01-05</td>\n",
              "      <td>14506</td>\n",
              "      <td>637.811802</td>\n",
              "      <td>0.938065</td>\n",
              "    </tr>\n",
              "  </tbody>\n",
              "</table>\n",
              "</div>"
            ],
            "text/plain": [
              "   Unnamed: 0 starttime_day  usertype  tripduration  tripdistance\n",
              "0           0    2015-01-01      5317    801.806658      0.880446\n",
              "1           1    2015-01-02     11304    731.240977      0.929326\n",
              "2           2    2015-01-03      4478    655.284279      0.860687\n",
              "3           3    2015-01-04      7849    679.554211      0.896166\n",
              "4           4    2015-01-05     14506    637.811802      0.938065"
            ]
          },
          "metadata": {
            "tags": []
          },
          "execution_count": 10
        }
      ]
    },
    {
      "cell_type": "code",
      "metadata": {
        "id": "3DnUYxdZuNWL"
      },
      "source": [
        "#data = data.drop(columns='Unnamed: 0')\n",
        "data= data.rename(columns={'usertype':'daily_counts'})\n",
        "data['starttime_day'] = pd.to_datetime(data['starttime_day'])"
      ],
      "execution_count": 11,
      "outputs": []
    },
    {
      "cell_type": "code",
      "metadata": {
        "colab": {
          "base_uri": "https://localhost:8080/",
          "height": 405
        },
        "id": "fd7MmFneuNWL",
        "outputId": "d0ff43d1-b05e-4928-9a0b-990ae3a45ef6"
      },
      "source": [
        "data"
      ],
      "execution_count": 12,
      "outputs": [
        {
          "output_type": "execute_result",
          "data": {
            "text/html": [
              "<div>\n",
              "<style scoped>\n",
              "    .dataframe tbody tr th:only-of-type {\n",
              "        vertical-align: middle;\n",
              "    }\n",
              "\n",
              "    .dataframe tbody tr th {\n",
              "        vertical-align: top;\n",
              "    }\n",
              "\n",
              "    .dataframe thead th {\n",
              "        text-align: right;\n",
              "    }\n",
              "</style>\n",
              "<table border=\"1\" class=\"dataframe\">\n",
              "  <thead>\n",
              "    <tr style=\"text-align: right;\">\n",
              "      <th></th>\n",
              "      <th>Unnamed: 0</th>\n",
              "      <th>starttime_day</th>\n",
              "      <th>daily_counts</th>\n",
              "      <th>tripduration</th>\n",
              "      <th>tripdistance</th>\n",
              "    </tr>\n",
              "  </thead>\n",
              "  <tbody>\n",
              "    <tr>\n",
              "      <th>0</th>\n",
              "      <td>0</td>\n",
              "      <td>2015-01-01</td>\n",
              "      <td>5317</td>\n",
              "      <td>801.806658</td>\n",
              "      <td>0.880446</td>\n",
              "    </tr>\n",
              "    <tr>\n",
              "      <th>1</th>\n",
              "      <td>1</td>\n",
              "      <td>2015-01-02</td>\n",
              "      <td>11304</td>\n",
              "      <td>731.240977</td>\n",
              "      <td>0.929326</td>\n",
              "    </tr>\n",
              "    <tr>\n",
              "      <th>2</th>\n",
              "      <td>2</td>\n",
              "      <td>2015-01-03</td>\n",
              "      <td>4478</td>\n",
              "      <td>655.284279</td>\n",
              "      <td>0.860687</td>\n",
              "    </tr>\n",
              "    <tr>\n",
              "      <th>3</th>\n",
              "      <td>3</td>\n",
              "      <td>2015-01-04</td>\n",
              "      <td>7849</td>\n",
              "      <td>679.554211</td>\n",
              "      <td>0.896166</td>\n",
              "    </tr>\n",
              "    <tr>\n",
              "      <th>4</th>\n",
              "      <td>4</td>\n",
              "      <td>2015-01-05</td>\n",
              "      <td>14506</td>\n",
              "      <td>637.811802</td>\n",
              "      <td>0.938065</td>\n",
              "    </tr>\n",
              "    <tr>\n",
              "      <th>...</th>\n",
              "      <td>...</td>\n",
              "      <td>...</td>\n",
              "      <td>...</td>\n",
              "      <td>...</td>\n",
              "      <td>...</td>\n",
              "    </tr>\n",
              "    <tr>\n",
              "      <th>2118</th>\n",
              "      <td>26</td>\n",
              "      <td>2020-10-27</td>\n",
              "      <td>78030</td>\n",
              "      <td>969.498424</td>\n",
              "      <td>1.266052</td>\n",
              "    </tr>\n",
              "    <tr>\n",
              "      <th>2119</th>\n",
              "      <td>27</td>\n",
              "      <td>2020-10-28</td>\n",
              "      <td>62847</td>\n",
              "      <td>993.646172</td>\n",
              "      <td>1.244965</td>\n",
              "    </tr>\n",
              "    <tr>\n",
              "      <th>2120</th>\n",
              "      <td>28</td>\n",
              "      <td>2020-10-29</td>\n",
              "      <td>19072</td>\n",
              "      <td>861.612154</td>\n",
              "      <td>1.117977</td>\n",
              "    </tr>\n",
              "    <tr>\n",
              "      <th>2121</th>\n",
              "      <td>29</td>\n",
              "      <td>2020-10-30</td>\n",
              "      <td>39546</td>\n",
              "      <td>910.687023</td>\n",
              "      <td>1.123494</td>\n",
              "    </tr>\n",
              "    <tr>\n",
              "      <th>2122</th>\n",
              "      <td>30</td>\n",
              "      <td>2020-10-31</td>\n",
              "      <td>66771</td>\n",
              "      <td>1147.853140</td>\n",
              "      <td>1.267373</td>\n",
              "    </tr>\n",
              "  </tbody>\n",
              "</table>\n",
              "<p>2123 rows × 5 columns</p>\n",
              "</div>"
            ],
            "text/plain": [
              "      Unnamed: 0 starttime_day  daily_counts  tripduration  tripdistance\n",
              "0              0    2015-01-01          5317    801.806658      0.880446\n",
              "1              1    2015-01-02         11304    731.240977      0.929326\n",
              "2              2    2015-01-03          4478    655.284279      0.860687\n",
              "3              3    2015-01-04          7849    679.554211      0.896166\n",
              "4              4    2015-01-05         14506    637.811802      0.938065\n",
              "...          ...           ...           ...           ...           ...\n",
              "2118          26    2020-10-27         78030    969.498424      1.266052\n",
              "2119          27    2020-10-28         62847    993.646172      1.244965\n",
              "2120          28    2020-10-29         19072    861.612154      1.117977\n",
              "2121          29    2020-10-30         39546    910.687023      1.123494\n",
              "2122          30    2020-10-31         66771   1147.853140      1.267373\n",
              "\n",
              "[2123 rows x 5 columns]"
            ]
          },
          "metadata": {
            "tags": []
          },
          "execution_count": 12
        }
      ]
    },
    {
      "cell_type": "markdown",
      "metadata": {
        "id": "hNEIYPN4uNWL"
      },
      "source": [
        "### Get summary"
      ]
    },
    {
      "cell_type": "code",
      "metadata": {
        "colab": {
          "base_uri": "https://localhost:8080/",
          "height": 197
        },
        "id": "QC9-Gu_EuNWL",
        "outputId": "4577446b-048c-4d7c-bcaa-356716541700"
      },
      "source": [
        "def getDfSummary(input_data):\n",
        "    # Turn input into a dataframe\n",
        "    data = pd.DataFrame(data=input_data)\n",
        "    \n",
        "    # Create a new data frame for the results\n",
        "    index_names = list(input_data.columns)\n",
        "    col_names = ['number_nan','percent_missing','number_distinct','mean','max','min','std','25%','50%','75%']\n",
        "    df_summary = pd.DataFrame(columns = col_names,index = index_names)\n",
        "        \n",
        "    # Count the missing not-a-number values\n",
        "    df_summary['number_nan'] = list(input_data.isna().sum())\n",
        "    df_summary['percent_missing'] = list(input_data.isna().sum()/input_data.shape[0])\n",
        "    \n",
        "    # Count the number of distinct values for each variable\n",
        "    df_summary['number_distinct'] = list(input_data.nunique())\n",
        "    \n",
        "    # Output the summary information of the input data\n",
        "    data_describe = input_data.describe()\n",
        "    summary_features = ['mean','max','min','std','25%','50%','75%']\n",
        "    for i in summary_features:\n",
        "        df_summary[i] = data_describe.loc[i]\n",
        "    # Return the results  \n",
        "    return df_summary\n",
        "\n",
        "getDfSummary(data)"
      ],
      "execution_count": 13,
      "outputs": [
        {
          "output_type": "execute_result",
          "data": {
            "text/html": [
              "<div>\n",
              "<style scoped>\n",
              "    .dataframe tbody tr th:only-of-type {\n",
              "        vertical-align: middle;\n",
              "    }\n",
              "\n",
              "    .dataframe tbody tr th {\n",
              "        vertical-align: top;\n",
              "    }\n",
              "\n",
              "    .dataframe thead th {\n",
              "        text-align: right;\n",
              "    }\n",
              "</style>\n",
              "<table border=\"1\" class=\"dataframe\">\n",
              "  <thead>\n",
              "    <tr style=\"text-align: right;\">\n",
              "      <th></th>\n",
              "      <th>number_nan</th>\n",
              "      <th>percent_missing</th>\n",
              "      <th>number_distinct</th>\n",
              "      <th>mean</th>\n",
              "      <th>max</th>\n",
              "      <th>min</th>\n",
              "      <th>std</th>\n",
              "      <th>25%</th>\n",
              "      <th>50%</th>\n",
              "      <th>75%</th>\n",
              "    </tr>\n",
              "  </thead>\n",
              "  <tbody>\n",
              "    <tr>\n",
              "      <th>Unnamed: 0</th>\n",
              "      <td>0</td>\n",
              "      <td>0.0</td>\n",
              "      <td>31</td>\n",
              "      <td>14.680170</td>\n",
              "      <td>30.000000</td>\n",
              "      <td>0.000000</td>\n",
              "      <td>8.778826</td>\n",
              "      <td>7.000000</td>\n",
              "      <td>15.000000</td>\n",
              "      <td>22.000000</td>\n",
              "    </tr>\n",
              "    <tr>\n",
              "      <th>starttime_day</th>\n",
              "      <td>0</td>\n",
              "      <td>0.0</td>\n",
              "      <td>2123</td>\n",
              "      <td>NaN</td>\n",
              "      <td>NaN</td>\n",
              "      <td>NaN</td>\n",
              "      <td>NaN</td>\n",
              "      <td>NaN</td>\n",
              "      <td>NaN</td>\n",
              "      <td>NaN</td>\n",
              "    </tr>\n",
              "    <tr>\n",
              "      <th>daily_counts</th>\n",
              "      <td>0</td>\n",
              "      <td>0.0</td>\n",
              "      <td>2099</td>\n",
              "      <td>44690.419689</td>\n",
              "      <td>101462.000000</td>\n",
              "      <td>1107.000000</td>\n",
              "      <td>21284.594697</td>\n",
              "      <td>28541.000000</td>\n",
              "      <td>42738.000000</td>\n",
              "      <td>61085.000000</td>\n",
              "    </tr>\n",
              "    <tr>\n",
              "      <th>tripduration</th>\n",
              "      <td>0</td>\n",
              "      <td>0.0</td>\n",
              "      <td>2123</td>\n",
              "      <td>999.375561</td>\n",
              "      <td>2158.759199</td>\n",
              "      <td>569.858582</td>\n",
              "      <td>262.555638</td>\n",
              "      <td>812.762821</td>\n",
              "      <td>937.247620</td>\n",
              "      <td>1136.795286</td>\n",
              "    </tr>\n",
              "    <tr>\n",
              "      <th>tripdistance</th>\n",
              "      <td>0</td>\n",
              "      <td>0.0</td>\n",
              "      <td>2123</td>\n",
              "      <td>1.110741</td>\n",
              "      <td>3.684443</td>\n",
              "      <td>0.737004</td>\n",
              "      <td>0.149159</td>\n",
              "      <td>1.024329</td>\n",
              "      <td>1.101891</td>\n",
              "      <td>1.173625</td>\n",
              "    </tr>\n",
              "  </tbody>\n",
              "</table>\n",
              "</div>"
            ],
            "text/plain": [
              "               number_nan  percent_missing  ...           50%           75%\n",
              "Unnamed: 0              0              0.0  ...     15.000000     22.000000\n",
              "starttime_day           0              0.0  ...           NaN           NaN\n",
              "daily_counts            0              0.0  ...  42738.000000  61085.000000\n",
              "tripduration            0              0.0  ...    937.247620   1136.795286\n",
              "tripdistance            0              0.0  ...      1.101891      1.173625\n",
              "\n",
              "[5 rows x 10 columns]"
            ]
          },
          "metadata": {
            "tags": []
          },
          "execution_count": 13
        }
      ]
    },
    {
      "cell_type": "markdown",
      "metadata": {
        "id": "xELjzNnFuNWL"
      },
      "source": [
        "### Train val test split"
      ]
    },
    {
      "cell_type": "code",
      "metadata": {
        "id": "PYjJibA4uNWL"
      },
      "source": [
        "pre = data[data['starttime_day'] < '2020-03-01']\n",
        "post = data[data['starttime_day'] >= '2020-03-01']"
      ],
      "execution_count": 14,
      "outputs": []
    },
    {
      "cell_type": "code",
      "metadata": {
        "id": "OhjT_9R2uNWL"
      },
      "source": [
        "pre_train = pre.iloc[:-375,:]\n",
        "pre_val = pre.iloc[-375:,:]"
      ],
      "execution_count": 15,
      "outputs": []
    },
    {
      "cell_type": "markdown",
      "metadata": {
        "id": "3QhePc0duNWL"
      },
      "source": [
        "### Standardize data"
      ]
    },
    {
      "cell_type": "code",
      "metadata": {
        "id": "YkxWuqszuNWL"
      },
      "source": [
        "from sklearn.preprocessing import StandardScaler\n",
        "prescaler = StandardScaler()"
      ],
      "execution_count": 16,
      "outputs": []
    },
    {
      "cell_type": "code",
      "metadata": {
        "id": "UkOs_g0huNWL"
      },
      "source": [
        "prescaler.fit(np.array(pre_train['daily_counts']).reshape(-1,1))\n",
        "pre_train['daily_counts_std'] = prescaler.transform(np.array(pre_train['daily_counts']).reshape(-1,1))\n",
        "pre_val['daily_counts_std'] = prescaler.transform(np.array(pre_val['daily_counts']).reshape(-1,1))"
      ],
      "execution_count": 17,
      "outputs": []
    },
    {
      "cell_type": "markdown",
      "metadata": {
        "id": "PC1yRXdcuNWL"
      },
      "source": [
        "### Dickey Fuller Test\n",
        "\n",
        "P-value is 0.06 (>=0.05) so we cannot reject the null hypothesis and cannot conclude that the data is stationary."
      ]
    },
    {
      "cell_type": "code",
      "metadata": {
        "id": "9qbdLpz_uNWL"
      },
      "source": [
        "#Define a function that performs Dickey-Fuller test and plot the moving average/moving std:\n",
        "\n",
        "def DF_test(data, datecol='starttime_day', values='daily_counts_std'):\n",
        "    dftest = adfuller(data[values], autolag = 'AIC')\n",
        "\n",
        "    dfoutput = pd.Series(dftest[0:4],index = ['Test Statistic','p-value','#Lags Used', 'Num of obs'])\n",
        "    for key,value in dftest[4].items():\n",
        "        dfoutput['Critical Value (%s)' %key] = value\n",
        "    print('Results of Dickey-Fuller test:')    \n",
        "    print(dfoutput)\n",
        "\n",
        "    plt.figure(figsize=(20,10))\n",
        "\n",
        "    ig, ax = plt.subplots(figsize=(20, 5))\n",
        "    org = ax.plot(data[datecol], data[values])\n",
        "\n",
        "    plt.title('Citibike Daily Data (2015-2020)')\n",
        "    plt.legend(loc= 'best')\n",
        "    plt.show(block=False)"
      ],
      "execution_count": 18,
      "outputs": []
    },
    {
      "cell_type": "code",
      "metadata": {
        "colab": {
          "base_uri": "https://localhost:8080/",
          "height": 523
        },
        "id": "YstTITKIuNWL",
        "outputId": "84dfb935-06d0-4192-dbb5-84bee75cdcc9"
      },
      "source": [
        "DF_test(pre_train)"
      ],
      "execution_count": 19,
      "outputs": [
        {
          "output_type": "stream",
          "text": [
            "No handles with labels found to put in legend.\n"
          ],
          "name": "stderr"
        },
        {
          "output_type": "stream",
          "text": [
            "Results of Dickey-Fuller test:\n",
            "Test Statistic            -2.503489\n",
            "p-value                    0.114628\n",
            "#Lags Used                22.000000\n",
            "Num of obs              1480.000000\n",
            "Critical Value (1%)       -3.434776\n",
            "Critical Value (5%)       -2.863495\n",
            "Critical Value (10%)      -2.567811\n",
            "dtype: float64\n"
          ],
          "name": "stdout"
        },
        {
          "output_type": "display_data",
          "data": {
            "text/plain": [
              "<Figure size 1440x720 with 0 Axes>"
            ]
          },
          "metadata": {
            "tags": []
          }
        },
        {
          "output_type": "display_data",
          "data": {
            "image/png": "[encoded data removed]",
            "text/plain": [
              "<Figure size 1440x360 with 1 Axes>"
            ]
          },
          "metadata": {
            "tags": [],
            "needs_background": "light"
          }
        }
      ]
    },
    {
      "cell_type": "markdown",
      "metadata": {
        "id": "ZYUjcStwuNWL"
      },
      "source": [
        "### Plot ACF, PACF"
      ]
    },
    {
      "cell_type": "code",
      "metadata": {
        "colab": {
          "base_uri": "https://localhost:8080/",
          "height": 280
        },
        "id": "vAyFiZPGuNWL",
        "outputId": "afec43f2-6a3b-44a7-c99f-1355fda79e76"
      },
      "source": [
        "plot_acf(x=pre_train['daily_counts_std'], lags=100)\n",
        "plt.show()"
      ],
      "execution_count": 20,
      "outputs": [
        {
          "output_type": "display_data",
          "data": {
            "image/png": "[encoded data removed]",
            "text/plain": [
              "<Figure size 432x288 with 1 Axes>"
            ]
          },
          "metadata": {
            "tags": [],
            "needs_background": "light"
          }
        }
      ]
    },
    {
      "cell_type": "code",
      "metadata": {
        "colab": {
          "base_uri": "https://localhost:8080/",
          "height": 280
        },
        "id": "lY6uG798uNWL",
        "outputId": "55d1611b-05e4-49e1-b633-c4453cca55a6"
      },
      "source": [
        "plot_pacf(x=pre_train['daily_counts_std'], lags=20)\n",
        "plt.show()"
      ],
      "execution_count": 21,
      "outputs": [
        {
          "output_type": "display_data",
          "data": {
            "image/png": "[encoded data removed]",
            "text/plain": [
              "<Figure size 432x288 with 1 Axes>"
            ]
          },
          "metadata": {
            "tags": [],
            "needs_background": "light"
          }
        }
      ]
    },
    {
      "cell_type": "markdown",
      "metadata": {
        "id": "1N3NF9S_uNWM"
      },
      "source": [
        "### RNN/ LSTM\n",
        "\n",
        "#### Data prep - sliding window\n",
        "Ref: https://stackabuse.com/time-series-prediction-using-lstm-with-pytorch-in-python/"
      ]
    },
    {
      "cell_type": "code",
      "metadata": {
        "id": "aM1e9wHDuNWM"
      },
      "source": [
        "train_window = 22 #base on number of lags from Dickey Fuller Test\n",
        "def create_sequence_data(input_data, window, output_size=1):\n",
        "    sequences = []\n",
        "    labels = []\n",
        "    length = len(input_data)\n",
        "    for i in range(length - window - output_size):\n",
        "        seq = input_data[i:i+window]\n",
        "        label = input_data[i+tw:i+tw+output_size]\n",
        "        sequences.append(seq)\n",
        "        labels.append(label)\n",
        "    return TensorDataset(sequences, labels)"
      ],
      "execution_count": 40,
      "outputs": []
    },
    {
      "cell_type": "code",
      "metadata": {
        "id": "reTj3aqu1w7a"
      },
      "source": [
        "def _get_data_loader(sequence_data, batch_size=16, window=train_window,shuffle=False,output_size=1):\n",
        "  data_loader = DataLoader(sequence_data, batch_size=batch_size,shuffle=shuffle,drop_last=True)\n",
        "  return data_loader"
      ],
      "execution_count": 47,
      "outputs": []
    },
    {
      "cell_type": "code",
      "metadata": {
        "id": "P2w6A5G0uNWM"
      },
      "source": [
        "train_data_normalized = np.array(pre_train['daily_counts_std'])\n",
        "val_data_normalized = np.array(pre_val['daily_counts_std'])"
      ],
      "execution_count": 43,
      "outputs": []
    },
    {
      "cell_type": "code",
      "metadata": {
        "id": "QPm4DCtzuNWM"
      },
      "source": [
        "train_sequence = create_inout_sequences(train_data_normalized, train_window)\n",
        "val_sequence = create_inout_sequences(val_data_normalized, train_window)"
      ],
      "execution_count": 44,
      "outputs": []
    },
    {
      "cell_type": "code",
      "metadata": {
        "colab": {
          "base_uri": "https://localhost:8080/"
        },
        "id": "QYYyCxjHvw18",
        "outputId": "34d896a0-1877-4d35-ba33-6fce6c60bc42"
      },
      "source": [
        "train_sequence[1],val_sequence[1]"
      ],
      "execution_count": 46,
      "outputs": [
        {
          "output_type": "execute_result",
          "data": {
            "text/plain": [
              "((array([-1.52683342, -1.89748648, -1.71444055, -1.35296422, -1.66611339,\n",
              "         -1.61686312, -1.66394138, -1.71004224, -1.80892288, -1.73518323,\n",
              "         -1.67121761, -1.44576324, -1.43007049, -1.3763676 , -1.38896525,\n",
              "         -1.73388002, -2.04317388, -1.55908773, -1.26483502, -1.31343369,\n",
              "         -1.27922457, -1.28612069]), array([-1.87924162])),\n",
              " (array([ 0.0041603 ,  0.12877923, -0.42432246, -0.82266861, -0.28270757,\n",
              "         -0.10351696, -0.16004346, -0.06512673, -0.49898521, -1.16318508,\n",
              "         -0.87876071, -0.59737715, -0.12626874, -0.33358685, -0.19088596,\n",
              "          0.05341057, -0.0268451 , -1.11453211,  0.7053929 ,  0.42270613,\n",
              "          0.58088257,  0.97977173]), array([0.98194374])))"
            ]
          },
          "metadata": {
            "tags": []
          },
          "execution_count": 46
        }
      ]
    },
    {
      "cell_type": "code",
      "metadata": {
        "id": "PgWXeteE3KAc"
      },
      "source": [
        "train_loader = _get_data_loader(train_sequence)\n",
        "val_loader = _get_data_loader(val_sequence)"
      ],
      "execution_count": 48,
      "outputs": []
    },
    {
      "cell_type": "code",
      "metadata": {
        "colab": {
          "base_uri": "https://localhost:8080/"
        },
        "id": "xv64JdhJ4PZ6",
        "outputId": "2930cb11-02ab-4e6e-f44b-dcf7e6a82d97"
      },
      "source": [
        "len(train_loader)"
      ],
      "execution_count": 52,
      "outputs": [
        {
          "output_type": "execute_result",
          "data": {
            "text/plain": [
              "92"
            ]
          },
          "metadata": {
            "tags": []
          },
          "execution_count": 52
        }
      ]
    },
    {
      "cell_type": "code",
      "metadata": {
        "id": "driCzzcBuNWM"
      },
      "source": [
        "class LSTM(nn.Module):\n",
        "    def __init__(self, input_size=1, batch_size=16, hidden_layer_size=100, output_size=1):\n",
        "        super().__init__()\n",
        "        self.hidden_layer_size = hidden_layer_size\n",
        "\n",
        "        self.lstm = nn.LSTM(input_size, hidden_layer_size,batch_first=True)\n",
        "\n",
        "        self.linear = nn.Linear(hidden_layer_size, output_size)\n",
        "\n",
        "        self.batch_size = batch_size\n",
        "\n",
        "    def forward(self, input_seq):\n",
        "        #weight = next(self.parameters()).data\n",
        "        hidden_cell = (torch.zeros(1,self.batch_size,self.hidden_layer_size),\n",
        "                            torch.zeros(1,self.batch_size,self.hidden_layer_size))\n",
        "        print(input_seq.shape)\n",
        "        input_seq = input_seq.view(len(input_seq),1, -1)\n",
        "        print(input_seq.shape)\n",
        "        lstm_out, _ = self.lstm(input_seq, hidden_cell)\n",
        "        print(lstm_out.shape)\n",
        "        lstm_out = lstm_out.view(len(input_seq), -1)\n",
        "        print(lstm_out.shape)\n",
        "        predictions = self.linear(lstm_out)\n",
        "        print(predictions.shape, predictions[-1].shape)\n",
        "        return predictions[-1]\n"
      ],
      "execution_count": 89,
      "outputs": []
    },
    {
      "cell_type": "code",
      "metadata": {
        "id": "S7oEqq6VuNWM"
      },
      "source": [
        "model = LSTM()\n",
        "loss_function = nn.MSELoss()\n",
        "optimizer = torch.optim.Adam(model.parameters(), lr=0.001)"
      ],
      "execution_count": 90,
      "outputs": []
    },
    {
      "cell_type": "code",
      "metadata": {
        "colab": {
          "base_uri": "https://localhost:8080/"
        },
        "id": "Z8Z_dxt4uNWM",
        "outputId": "e06b3163-c6ea-45da-de86-d84809dda7ca"
      },
      "source": [
        "print(model)"
      ],
      "execution_count": 91,
      "outputs": [
        {
          "output_type": "stream",
          "text": [
            "LSTM(\n",
            "  (lstm): LSTM(1, 100, batch_first=True)\n",
            "  (linear): Linear(in_features=100, out_features=1, bias=True)\n",
            ")\n"
          ],
          "name": "stdout"
        }
      ]
    },
    {
      "cell_type": "code",
      "metadata": {
        "colab": {
          "base_uri": "https://localhost:8080/",
          "height": 391
        },
        "id": "e3ERt8_NwKgX",
        "outputId": "b1e80575-383d-48fc-9786-90a14df45e8b"
      },
      "source": [
        "seq, labels = next(iter(train_loader))\n",
        "print(seq.shape, seq.view(len(seq) ,1, -1).shape)\n",
        "y = model(seq)"
      ],
      "execution_count": 93,
      "outputs": [
        {
          "output_type": "stream",
          "text": [
            "torch.Size([16, 22]) torch.Size([16, 1, 22])\n",
            "torch.Size([16, 22])\n",
            "torch.Size([16, 1, 22])\n"
          ],
          "name": "stdout"
        },
        {
          "output_type": "error",
          "ename": "RuntimeError",
          "evalue": "ignored",
          "traceback": [
            "\u001b[0;31m---------------------------------------------------------------------------\u001b[0m",
            "\u001b[0;31mRuntimeError\u001b[0m                              Traceback (most recent call last)",
            "\u001b[0;32m<ipython-input-93-13346283859e>\u001b[0m in \u001b[0;36m<module>\u001b[0;34m()\u001b[0m\n\u001b[1;32m      1\u001b[0m \u001b[0mseq\u001b[0m\u001b[0;34m,\u001b[0m \u001b[0mlabels\u001b[0m \u001b[0;34m=\u001b[0m \u001b[0mnext\u001b[0m\u001b[0;34m(\u001b[0m\u001b[0miter\u001b[0m\u001b[0;34m(\u001b[0m\u001b[0mtrain_loader\u001b[0m\u001b[0;34m)\u001b[0m\u001b[0;34m)\u001b[0m\u001b[0;34m\u001b[0m\u001b[0;34m\u001b[0m\u001b[0m\n\u001b[1;32m      2\u001b[0m \u001b[0mprint\u001b[0m\u001b[0;34m(\u001b[0m\u001b[0mseq\u001b[0m\u001b[0;34m.\u001b[0m\u001b[0mshape\u001b[0m\u001b[0;34m,\u001b[0m \u001b[0mseq\u001b[0m\u001b[0;34m.\u001b[0m\u001b[0mview\u001b[0m\u001b[0;34m(\u001b[0m\u001b[0mlen\u001b[0m\u001b[0;34m(\u001b[0m\u001b[0mseq\u001b[0m\u001b[0;34m)\u001b[0m \u001b[0;34m,\u001b[0m\u001b[0;36m1\u001b[0m\u001b[0;34m,\u001b[0m \u001b[0;34m-\u001b[0m\u001b[0;36m1\u001b[0m\u001b[0;34m)\u001b[0m\u001b[0;34m.\u001b[0m\u001b[0mshape\u001b[0m\u001b[0;34m)\u001b[0m\u001b[0;34m\u001b[0m\u001b[0;34m\u001b[0m\u001b[0m\n\u001b[0;32m----> 3\u001b[0;31m \u001b[0my\u001b[0m \u001b[0;34m=\u001b[0m \u001b[0mmodel\u001b[0m\u001b[0;34m(\u001b[0m\u001b[0mseq\u001b[0m\u001b[0;34m)\u001b[0m\u001b[0;34m\u001b[0m\u001b[0;34m\u001b[0m\u001b[0m\n\u001b[0m",
            "\u001b[0;32m/usr/local/lib/python3.6/dist-packages/torch/nn/modules/module.py\u001b[0m in \u001b[0;36m_call_impl\u001b[0;34m(self, *input, **kwargs)\u001b[0m\n\u001b[1;32m    725\u001b[0m             \u001b[0mresult\u001b[0m \u001b[0;34m=\u001b[0m \u001b[0mself\u001b[0m\u001b[0;34m.\u001b[0m\u001b[0m_slow_forward\u001b[0m\u001b[0;34m(\u001b[0m\u001b[0;34m*\u001b[0m\u001b[0minput\u001b[0m\u001b[0;34m,\u001b[0m \u001b[0;34m**\u001b[0m\u001b[0mkwargs\u001b[0m\u001b[0;34m)\u001b[0m\u001b[0;34m\u001b[0m\u001b[0;34m\u001b[0m\u001b[0m\n\u001b[1;32m    726\u001b[0m         \u001b[0;32melse\u001b[0m\u001b[0;34m:\u001b[0m\u001b[0;34m\u001b[0m\u001b[0;34m\u001b[0m\u001b[0m\n\u001b[0;32m--> 727\u001b[0;31m             \u001b[0mresult\u001b[0m \u001b[0;34m=\u001b[0m \u001b[0mself\u001b[0m\u001b[0;34m.\u001b[0m\u001b[0mforward\u001b[0m\u001b[0;34m(\u001b[0m\u001b[0;34m*\u001b[0m\u001b[0minput\u001b[0m\u001b[0;34m,\u001b[0m \u001b[0;34m**\u001b[0m\u001b[0mkwargs\u001b[0m\u001b[0;34m)\u001b[0m\u001b[0;34m\u001b[0m\u001b[0;34m\u001b[0m\u001b[0m\n\u001b[0m\u001b[1;32m    728\u001b[0m         for hook in itertools.chain(\n\u001b[1;32m    729\u001b[0m                 \u001b[0m_global_forward_hooks\u001b[0m\u001b[0;34m.\u001b[0m\u001b[0mvalues\u001b[0m\u001b[0;34m(\u001b[0m\u001b[0;34m)\u001b[0m\u001b[0;34m,\u001b[0m\u001b[0;34m\u001b[0m\u001b[0;34m\u001b[0m\u001b[0m\n",
            "\u001b[0;32m<ipython-input-89-f92891ff2405>\u001b[0m in \u001b[0;36mforward\u001b[0;34m(self, input_seq)\u001b[0m\n\u001b[1;32m     17\u001b[0m         \u001b[0minput_seq\u001b[0m \u001b[0;34m=\u001b[0m \u001b[0minput_seq\u001b[0m\u001b[0;34m.\u001b[0m\u001b[0mview\u001b[0m\u001b[0;34m(\u001b[0m\u001b[0mlen\u001b[0m\u001b[0;34m(\u001b[0m\u001b[0minput_seq\u001b[0m\u001b[0;34m)\u001b[0m\u001b[0;34m,\u001b[0m\u001b[0;36m1\u001b[0m\u001b[0;34m,\u001b[0m \u001b[0;34m-\u001b[0m\u001b[0;36m1\u001b[0m\u001b[0;34m)\u001b[0m\u001b[0;34m\u001b[0m\u001b[0;34m\u001b[0m\u001b[0m\n\u001b[1;32m     18\u001b[0m         \u001b[0mprint\u001b[0m\u001b[0;34m(\u001b[0m\u001b[0minput_seq\u001b[0m\u001b[0;34m.\u001b[0m\u001b[0mshape\u001b[0m\u001b[0;34m)\u001b[0m\u001b[0;34m\u001b[0m\u001b[0;34m\u001b[0m\u001b[0m\n\u001b[0;32m---> 19\u001b[0;31m         \u001b[0mlstm_out\u001b[0m\u001b[0;34m,\u001b[0m \u001b[0m_\u001b[0m \u001b[0;34m=\u001b[0m \u001b[0mself\u001b[0m\u001b[0;34m.\u001b[0m\u001b[0mlstm\u001b[0m\u001b[0;34m(\u001b[0m\u001b[0minput_seq\u001b[0m\u001b[0;34m,\u001b[0m \u001b[0mhidden_cell\u001b[0m\u001b[0;34m)\u001b[0m\u001b[0;34m\u001b[0m\u001b[0;34m\u001b[0m\u001b[0m\n\u001b[0m\u001b[1;32m     20\u001b[0m         \u001b[0mprint\u001b[0m\u001b[0;34m(\u001b[0m\u001b[0mlstm_out\u001b[0m\u001b[0;34m.\u001b[0m\u001b[0mshape\u001b[0m\u001b[0;34m)\u001b[0m\u001b[0;34m\u001b[0m\u001b[0;34m\u001b[0m\u001b[0m\n\u001b[1;32m     21\u001b[0m         \u001b[0mlstm_out\u001b[0m \u001b[0;34m=\u001b[0m \u001b[0mlstm_out\u001b[0m\u001b[0;34m.\u001b[0m\u001b[0mview\u001b[0m\u001b[0;34m(\u001b[0m\u001b[0mlen\u001b[0m\u001b[0;34m(\u001b[0m\u001b[0minput_seq\u001b[0m\u001b[0;34m)\u001b[0m\u001b[0;34m,\u001b[0m \u001b[0;34m-\u001b[0m\u001b[0;36m1\u001b[0m\u001b[0;34m)\u001b[0m\u001b[0;34m\u001b[0m\u001b[0;34m\u001b[0m\u001b[0m\n",
            "\u001b[0;32m/usr/local/lib/python3.6/dist-packages/torch/nn/modules/module.py\u001b[0m in \u001b[0;36m_call_impl\u001b[0;34m(self, *input, **kwargs)\u001b[0m\n\u001b[1;32m    725\u001b[0m             \u001b[0mresult\u001b[0m \u001b[0;34m=\u001b[0m \u001b[0mself\u001b[0m\u001b[0;34m.\u001b[0m\u001b[0m_slow_forward\u001b[0m\u001b[0;34m(\u001b[0m\u001b[0;34m*\u001b[0m\u001b[0minput\u001b[0m\u001b[0;34m,\u001b[0m \u001b[0;34m**\u001b[0m\u001b[0mkwargs\u001b[0m\u001b[0;34m)\u001b[0m\u001b[0;34m\u001b[0m\u001b[0;34m\u001b[0m\u001b[0m\n\u001b[1;32m    726\u001b[0m         \u001b[0;32melse\u001b[0m\u001b[0;34m:\u001b[0m\u001b[0;34m\u001b[0m\u001b[0;34m\u001b[0m\u001b[0m\n\u001b[0;32m--> 727\u001b[0;31m             \u001b[0mresult\u001b[0m \u001b[0;34m=\u001b[0m \u001b[0mself\u001b[0m\u001b[0;34m.\u001b[0m\u001b[0mforward\u001b[0m\u001b[0;34m(\u001b[0m\u001b[0;34m*\u001b[0m\u001b[0minput\u001b[0m\u001b[0;34m,\u001b[0m \u001b[0;34m**\u001b[0m\u001b[0mkwargs\u001b[0m\u001b[0;34m)\u001b[0m\u001b[0;34m\u001b[0m\u001b[0;34m\u001b[0m\u001b[0m\n\u001b[0m\u001b[1;32m    728\u001b[0m         for hook in itertools.chain(\n\u001b[1;32m    729\u001b[0m                 \u001b[0m_global_forward_hooks\u001b[0m\u001b[0;34m.\u001b[0m\u001b[0mvalues\u001b[0m\u001b[0;34m(\u001b[0m\u001b[0;34m)\u001b[0m\u001b[0;34m,\u001b[0m\u001b[0;34m\u001b[0m\u001b[0;34m\u001b[0m\u001b[0m\n",
            "\u001b[0;32m/usr/local/lib/python3.6/dist-packages/torch/nn/modules/rnn.py\u001b[0m in \u001b[0;36mforward\u001b[0;34m(self, input, hx)\u001b[0m\n\u001b[1;32m    577\u001b[0m             \u001b[0mhx\u001b[0m \u001b[0;34m=\u001b[0m \u001b[0mself\u001b[0m\u001b[0;34m.\u001b[0m\u001b[0mpermute_hidden\u001b[0m\u001b[0;34m(\u001b[0m\u001b[0mhx\u001b[0m\u001b[0;34m,\u001b[0m \u001b[0msorted_indices\u001b[0m\u001b[0;34m)\u001b[0m\u001b[0;34m\u001b[0m\u001b[0;34m\u001b[0m\u001b[0m\n\u001b[1;32m    578\u001b[0m \u001b[0;34m\u001b[0m\u001b[0m\n\u001b[0;32m--> 579\u001b[0;31m         \u001b[0mself\u001b[0m\u001b[0;34m.\u001b[0m\u001b[0mcheck_forward_args\u001b[0m\u001b[0;34m(\u001b[0m\u001b[0minput\u001b[0m\u001b[0;34m,\u001b[0m \u001b[0mhx\u001b[0m\u001b[0;34m,\u001b[0m \u001b[0mbatch_sizes\u001b[0m\u001b[0;34m)\u001b[0m\u001b[0;34m\u001b[0m\u001b[0;34m\u001b[0m\u001b[0m\n\u001b[0m\u001b[1;32m    580\u001b[0m         \u001b[0;32mif\u001b[0m \u001b[0mbatch_sizes\u001b[0m \u001b[0;32mis\u001b[0m \u001b[0;32mNone\u001b[0m\u001b[0;34m:\u001b[0m\u001b[0;34m\u001b[0m\u001b[0;34m\u001b[0m\u001b[0m\n\u001b[1;32m    581\u001b[0m             result = _VF.lstm(input, hx, self._flat_weights, self.bias, self.num_layers,\n",
            "\u001b[0;32m/usr/local/lib/python3.6/dist-packages/torch/nn/modules/rnn.py\u001b[0m in \u001b[0;36mcheck_forward_args\u001b[0;34m(self, input, hidden, batch_sizes)\u001b[0m\n\u001b[1;32m    528\u001b[0m \u001b[0;34m\u001b[0m\u001b[0m\n\u001b[1;32m    529\u001b[0m     \u001b[0;32mdef\u001b[0m \u001b[0mcheck_forward_args\u001b[0m\u001b[0;34m(\u001b[0m\u001b[0mself\u001b[0m\u001b[0;34m,\u001b[0m \u001b[0minput\u001b[0m\u001b[0;34m:\u001b[0m \u001b[0mTensor\u001b[0m\u001b[0;34m,\u001b[0m \u001b[0mhidden\u001b[0m\u001b[0;34m:\u001b[0m \u001b[0mTuple\u001b[0m\u001b[0;34m[\u001b[0m\u001b[0mTensor\u001b[0m\u001b[0;34m,\u001b[0m \u001b[0mTensor\u001b[0m\u001b[0;34m]\u001b[0m\u001b[0;34m,\u001b[0m \u001b[0mbatch_sizes\u001b[0m\u001b[0;34m:\u001b[0m \u001b[0mOptional\u001b[0m\u001b[0;34m[\u001b[0m\u001b[0mTensor\u001b[0m\u001b[0;34m]\u001b[0m\u001b[0;34m)\u001b[0m\u001b[0;34m:\u001b[0m\u001b[0;34m\u001b[0m\u001b[0;34m\u001b[0m\u001b[0m\n\u001b[0;32m--> 530\u001b[0;31m         \u001b[0mself\u001b[0m\u001b[0;34m.\u001b[0m\u001b[0mcheck_input\u001b[0m\u001b[0;34m(\u001b[0m\u001b[0minput\u001b[0m\u001b[0;34m,\u001b[0m \u001b[0mbatch_sizes\u001b[0m\u001b[0;34m)\u001b[0m\u001b[0;34m\u001b[0m\u001b[0;34m\u001b[0m\u001b[0m\n\u001b[0m\u001b[1;32m    531\u001b[0m         \u001b[0mexpected_hidden_size\u001b[0m \u001b[0;34m=\u001b[0m \u001b[0mself\u001b[0m\u001b[0;34m.\u001b[0m\u001b[0mget_expected_hidden_size\u001b[0m\u001b[0;34m(\u001b[0m\u001b[0minput\u001b[0m\u001b[0;34m,\u001b[0m \u001b[0mbatch_sizes\u001b[0m\u001b[0;34m)\u001b[0m\u001b[0;34m\u001b[0m\u001b[0;34m\u001b[0m\u001b[0m\n\u001b[1;32m    532\u001b[0m \u001b[0;34m\u001b[0m\u001b[0m\n",
            "\u001b[0;32m/usr/local/lib/python3.6/dist-packages/torch/nn/modules/rnn.py\u001b[0m in \u001b[0;36mcheck_input\u001b[0;34m(self, input, batch_sizes)\u001b[0m\n\u001b[1;32m    178\u001b[0m             raise RuntimeError(\n\u001b[1;32m    179\u001b[0m                 'input.size(-1) must be equal to input_size. Expected {}, got {}'.format(\n\u001b[0;32m--> 180\u001b[0;31m                     self.input_size, input.size(-1)))\n\u001b[0m\u001b[1;32m    181\u001b[0m \u001b[0;34m\u001b[0m\u001b[0m\n\u001b[1;32m    182\u001b[0m     \u001b[0;32mdef\u001b[0m \u001b[0mget_expected_hidden_size\u001b[0m\u001b[0;34m(\u001b[0m\u001b[0mself\u001b[0m\u001b[0;34m,\u001b[0m \u001b[0minput\u001b[0m\u001b[0;34m:\u001b[0m \u001b[0mTensor\u001b[0m\u001b[0;34m,\u001b[0m \u001b[0mbatch_sizes\u001b[0m\u001b[0;34m:\u001b[0m \u001b[0mOptional\u001b[0m\u001b[0;34m[\u001b[0m\u001b[0mTensor\u001b[0m\u001b[0;34m]\u001b[0m\u001b[0;34m)\u001b[0m \u001b[0;34m->\u001b[0m \u001b[0mTuple\u001b[0m\u001b[0;34m[\u001b[0m\u001b[0mint\u001b[0m\u001b[0;34m,\u001b[0m \u001b[0mint\u001b[0m\u001b[0;34m,\u001b[0m \u001b[0mint\u001b[0m\u001b[0;34m]\u001b[0m\u001b[0;34m:\u001b[0m\u001b[0;34m\u001b[0m\u001b[0;34m\u001b[0m\u001b[0m\n",
            "\u001b[0;31mRuntimeError\u001b[0m: input.size(-1) must be equal to input_size. Expected 1, got 22"
          ]
        }
      ]
    },
    {
      "cell_type": "code",
      "metadata": {
        "id": "UHztME6cvZtN"
      },
      "source": [
        "epochs = 150\n",
        "def train(epochs, train_loader):\n",
        "  model.train()\n",
        "  for i in range(epochs):\n",
        "      mean_loss = 0\n",
        "      for i, (seq, labels) in enumerate(train_loader) :\n",
        "          seq, labels = seq.to(device), labels.to(device)\n",
        "          optimizer.zero_grad()\n",
        "          model.hidden_cell = (torch.zeros(1, 1, model.hidden_layer_size),\n",
        "                          torch.zeros(1, 1, model.hidden_layer_size))\n",
        "          print(seq.shape)\n",
        "          y_pred = model(seq)\n",
        "\n",
        "          loss = loss_function(y_pred, labels)\n",
        "          mean_loss += loss.item()\n",
        "          loss.backward()\n",
        "          optimizer.step()\n",
        "\n",
        "      mean_loss /= len(train_loader)\n",
        "\n",
        "      # if i%25 == 1:\n",
        "      #     print(f'epoch: {i:3} loss: {single_loss.item():10.8f}')\n",
        "\n",
        "  print(f'epoch: {i} | loss: {mean_loss:10.10f}')"
      ],
      "execution_count": 94,
      "outputs": []
    },
    {
      "cell_type": "code",
      "metadata": {
        "id": "dUQftsVxveb7"
      },
      "source": [
        ""
      ],
      "execution_count": null,
      "outputs": []
    }
  ]
}